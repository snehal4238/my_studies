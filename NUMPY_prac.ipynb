{
 "cells": [
  {
   "cell_type": "markdown",
   "id": "5f2883ec",
   "metadata": {},
   "source": [
    "# Numpy study\n",
    "25-03-22"
   ]
  },
  {
   "cell_type": "markdown",
   "id": "ed735a95",
   "metadata": {},
   "source": [
    "#### what is numpy?\n",
    "\n",
    "->python libraray for working with arrays\n",
    "\n",
    "->it has functions for working with domain of linear \n",
    "alzebera,fourier transformation,& matrices\n",
    "\n",
    "->created in 2005 by Travis Oliphant\n",
    "\n",
    "->stands for numerical python ; open source free to use\n"
   ]
  },
  {
   "cell_type": "markdown",
   "id": "7a49ea96",
   "metadata": {},
   "source": [
    "why use NumPy?\n",
    "\n",
    "->it aims to provide an array object that is upto 50x faster\n",
    " than traditional python list\n",
    "\n",
    "->array object in NumPy called as \"ndarray\", it provides \n",
    "lots of supporting function to work at easy\n",
    "\n",
    "->frequently used in data science"
   ]
  },
  {
   "cell_type": "markdown",
   "id": "53336420",
   "metadata": {},
   "source": [
    "DATA SCIENCE -> is a branch of computer science ,where we \n",
    "study how to store , use and analyze data for deriving\n",
    "information from it"
   ]
  },
  {
   "cell_type": "markdown",
   "id": "01863610",
   "metadata": {},
   "source": [
    "why NumPy is faster than lists?\n",
    "\n",
    "->simply by performance. NumPy data structures perform better in size ;\n",
    "NumPy data structures take up less space.their speed is faster than lists\n",
    "\n",
    "->we can write in c or c++ for more faster computataion"
   ]
  },
  {
   "cell_type": "code",
   "execution_count": 4,
   "id": "7989e720",
   "metadata": {},
   "outputs": [],
   "source": [
    "import numpy as np"
   ]
  },
  {
   "cell_type": "code",
   "execution_count": 5,
   "id": "1c3a8063",
   "metadata": {},
   "outputs": [
    {
     "name": "stdout",
     "output_type": "stream",
     "text": [
      "[1 2 3 4 5]\n",
      "<class 'numpy.ndarray'>\n",
      "1\n",
      "1.21.5\n"
     ]
    }
   ],
   "source": [
    "#to create a numpy array by lsit \n",
    "arr = np.array([1,2,3,4,5])\n",
    "#arr is an ndarray object & we can create ndarray object using array()func\n",
    "print(arr)\n",
    "print(type(arr))\n",
    "print(arr.ndim)\n",
    "print(np.__version__)"
   ]
  },
  {
   "cell_type": "code",
   "execution_count": 6,
   "id": "6f400cdb",
   "metadata": {},
   "outputs": [
    {
     "name": "stdout",
     "output_type": "stream",
     "text": [
      "[1 2 3 4 4]\n",
      "<class 'numpy.ndarray'>\n"
     ]
    }
   ],
   "source": [
    "#use a tuple to craete a numpy array\n",
    "arr2 = np.array((1,2,3,4,4))\n",
    "print(arr2)\n",
    "print(type(arr2))"
   ]
  },
  {
   "cell_type": "code",
   "execution_count": 7,
   "id": "1bd48bae",
   "metadata": {},
   "outputs": [
    {
     "name": "stdout",
     "output_type": "stream",
     "text": [
      "0-d array 42\n"
     ]
    }
   ],
   "source": [
    "#0-D array\n",
    "arr = np.array(42)\n",
    "print(\"0-d array\",arr)"
   ]
  },
  {
   "cell_type": "code",
   "execution_count": 8,
   "id": "3a08ef84",
   "metadata": {},
   "outputs": [
    {
     "name": "stdout",
     "output_type": "stream",
     "text": [
      "uni-dimentinal or 1-d arrays [1 2 3 4]\n"
     ]
    }
   ],
   "source": [
    "#1-d or uni-dimentional array\n",
    "arr =np.array([1,2,3,4])\n",
    "print(\"uni-dimentinal or 1-d arrays\",arr)"
   ]
  },
  {
   "cell_type": "code",
   "execution_count": 9,
   "id": "5b98389d",
   "metadata": {},
   "outputs": [
    {
     "name": "stdout",
     "output_type": "stream",
     "text": [
      "2-d array [[1 2 3 4]\n",
      " [7 6 9 3]]\n",
      "2\n"
     ]
    }
   ],
   "source": [
    "#2-d arrays\n",
    "arr = np.array([[1,2,3,4], [7,6,9,3]])\n",
    "print(\"2-d array\",arr)\n",
    "print(arr.ndim)"
   ]
  },
  {
   "cell_type": "code",
   "execution_count": 10,
   "id": "5868bb62",
   "metadata": {},
   "outputs": [
    {
     "name": "stdout",
     "output_type": "stream",
     "text": [
      "3-d array [[[1 2 3 4]\n",
      "  [7 6 9 3]]\n",
      "\n",
      " [[2 4 7 8]\n",
      "  [7 9 1 5]]]\n",
      "3\n"
     ]
    }
   ],
   "source": [
    "#3-d arrays\n",
    "arr =np.array([[[1,2,3,4],[7,6,9,3]],[[2,4,7,8],[7,9,1,5]]])\n",
    "print(\"3-d array\",arr)\n",
    "print(arr.ndim)# (.ndim)use to check number of dimensions"
   ]
  },
  {
   "cell_type": "code",
   "execution_count": 11,
   "id": "7616ca84",
   "metadata": {},
   "outputs": [
    {
     "name": "stdout",
     "output_type": "stream",
     "text": [
      "[[[[[1 2 3 4]]]]]\n",
      "number of dimensions : 5\n"
     ]
    }
   ],
   "source": [
    "#higher dimensional arrays\n",
    "arr = np.array([1,2,3,4], ndmin=5)\n",
    "print(arr)\n",
    "print(\"number of dimensions :\",arr.ndim)\n"
   ]
  },
  {
   "cell_type": "code",
   "execution_count": 12,
   "id": "59daddd4",
   "metadata": {},
   "outputs": [],
   "source": [
    "arr = np.array([1,2,3,4])\n"
   ]
  },
  {
   "cell_type": "markdown",
   "id": "1b2b42b5",
   "metadata": {},
   "source": [
    "### Acess array Elements"
   ]
  },
  {
   "cell_type": "code",
   "execution_count": 13,
   "id": "00a14e31",
   "metadata": {},
   "outputs": [],
   "source": [
    "arr = np.array([1,2,3,4])"
   ]
  },
  {
   "cell_type": "code",
   "execution_count": 14,
   "id": "0c0a5c53",
   "metadata": {},
   "outputs": [
    {
     "name": "stdout",
     "output_type": "stream",
     "text": [
      "4\n",
      "1\n"
     ]
    }
   ],
   "source": [
    "#finding array by index number\n",
    "print(arr[3])\n",
    "print(arr[0])"
   ]
  },
  {
   "cell_type": "code",
   "execution_count": 15,
   "id": "e18cb6e7",
   "metadata": {},
   "outputs": [
    {
     "name": "stdout",
     "output_type": "stream",
     "text": [
      "5\n"
     ]
    }
   ],
   "source": [
    "#get two array and add them\n",
    "print(arr[2]+arr[1])"
   ]
  },
  {
   "cell_type": "code",
   "execution_count": 16,
   "id": "9f3c0937",
   "metadata": {},
   "outputs": [
    {
     "name": "stdout",
     "output_type": "stream",
     "text": [
      "2nd element on 1st row: 4\n",
      "2nd element on 2nd row: 6\n"
     ]
    }
   ],
   "source": [
    "#acess 2-d arrays\n",
    "arr = np.array([[1,4,6,8,5],[3,6,8,4,2]])\n",
    "print('2nd element on 1st row:',arr[0,1])\n",
    "print('2nd element on 2nd row:',arr[1,1])"
   ]
  },
  {
   "cell_type": "code",
   "execution_count": 17,
   "id": "0a59a530",
   "metadata": {},
   "outputs": [
    {
     "name": "stdout",
     "output_type": "stream",
     "text": [
      "second element of fisrt array is: 5\n"
     ]
    }
   ],
   "source": [
    "#access 3-d array\n",
    "arr =np.array([[[4,5,6],[3,7,2]],[[2,6,4],[9,6,2]]])\n",
    "print('second element of fisrt array is:',arr[0,0,1])"
   ]
  },
  {
   "cell_type": "code",
   "execution_count": 18,
   "id": "2eebf319",
   "metadata": {},
   "outputs": [
    {
     "name": "stdout",
     "output_type": "stream",
     "text": [
      "last element from 2nd dim: 9\n"
     ]
    }
   ],
   "source": [
    "#negative indexing\n",
    "arr =np.array([[1,2,3,4,5],[2,3,6,8,9]])\n",
    "print('last element from 2nd dim:',arr[1,-1])\n",
    "\n"
   ]
  },
  {
   "cell_type": "markdown",
   "id": "03514a85",
   "metadata": {},
   "source": [
    "### Numpy Array slicing"
   ]
  },
  {
   "cell_type": "code",
   "execution_count": null,
   "id": "171c780c",
   "metadata": {},
   "outputs": [],
   "source": [
    "#slicing array\n",
    "#[start:end]- we pass slice instead of index\n",
    "#[start:end:step]-we define step like this\n",
    "#default value of start - 0,end-length of array,step-1"
   ]
  },
  {
   "cell_type": "code",
   "execution_count": 19,
   "id": "9d045151",
   "metadata": {},
   "outputs": [
    {
     "name": "stdout",
     "output_type": "stream",
     "text": [
      "[ 2  3 45  6  7]\n",
      "elements sliced from 4 to the end [6 7]\n",
      "slice elemets from the beginning to index 3 [1 2 3]\n"
     ]
    }
   ],
   "source": [
    "import numpy as np\n",
    "arr = np.array([1,2,3,45,6,7])\n",
    "print(arr[1:6])\n",
    "print(\"elements sliced from 4 to the end\",arr[4:])\n",
    "print(\"slice elemets from the beginning to index 3\",arr[:3])"
   ]
  },
  {
   "cell_type": "code",
   "execution_count": 21,
   "id": "94e0fc4b",
   "metadata": {},
   "outputs": [
    {
     "name": "stdout",
     "output_type": "stream",
     "text": [
      "negative slicing sclice from index 3 from end to index 1 from the end\n",
      "[45  6]\n"
     ]
    }
   ],
   "source": [
    "#negative slicing\n",
    "print(\"negative slicing sclice from index 3 from end to index 1 from the end\")\n",
    "print(arr[-3:-1])"
   ]
  },
  {
   "cell_type": "code",
   "execution_count": 22,
   "id": "0da76bf4",
   "metadata": {},
   "outputs": [
    {
     "name": "stdout",
     "output_type": "stream",
     "text": [
      "return every other element from start index to the end index [ 2 45  7]\n",
      "return every other element from entire array [1 3 6]\n"
     ]
    }
   ],
   "source": [
    "#steps in arrays\n",
    "print(\"return every other element from start index to the end index\",arr[1:6:2])#step value to determine the steps of slicing\n",
    "print(\"return every other element from entire array\",arr[::2])"
   ]
  },
  {
   "cell_type": "code",
   "execution_count": 23,
   "id": "b3ba2baf",
   "metadata": {},
   "outputs": [
    {
     "name": "stdout",
     "output_type": "stream",
     "text": [
      "slice element from the second element,slice elements from index 1 to index 3 [7 8]\n",
      "from both elements return index 2 [3 8]\n"
     ]
    }
   ],
   "source": [
    "#slicing 2-d array\n",
    "arr =np.array([[1,2,3,4,5],[6,7,8,9,10]])\n",
    "print(\"slice element from the second element,slice elements from index 1 to index 3\",arr[1,1:3])\n",
    "print(\"from both elements return index 2\",arr[0:2,2])\n"
   ]
  },
  {
   "cell_type": "markdown",
   "id": "590fdd73",
   "metadata": {},
   "source": [
    "### Numpy data types\n",
    "by deafault python  have these data types:\n",
    "\n",
    "strings - for text data e.g \"abc\"\n",
    "\n",
    "integer - for integer numbers e.g 00,1,3,-1,-2\n",
    "\n",
    "float - for real numbers e.g 1.2,10.5,1.0\n",
    "\n",
    "boolean - true or false & 1 or 0\n",
    "\n",
    "complex - for complex numbers e.g 1i+5j+2.5"
   ]
  },
  {
   "cell_type": "code",
   "execution_count": null,
   "id": "7d344be6",
   "metadata": {},
   "outputs": [],
   "source": []
  },
  {
   "cell_type": "markdown",
   "id": "f111b07e",
   "metadata": {},
   "source": [
    "#Data types in NumPy\n",
    "i - integer\n",
    "\n",
    "b - boolean\n",
    "\n",
    "u - unsigned integer\n",
    "\n",
    "f - float\n",
    "\n",
    "c - complex float\n",
    "\n",
    "m - timedelta\n",
    "\n",
    "M - datetime\n",
    "\n",
    "O - object\n",
    "\n",
    "S - string\n",
    "\n",
    "U - unicode string\n",
    "\n",
    "V - fixed chunk of memory for other type ( void )\n"
   ]
  },
  {
   "cell_type": "code",
   "execution_count": 1,
   "id": "7ac9a2ec",
   "metadata": {},
   "outputs": [],
   "source": [
    "import numpy as np"
   ]
  },
  {
   "cell_type": "code",
   "execution_count": 2,
   "id": "26ee64a4",
   "metadata": {},
   "outputs": [
    {
     "name": "stdout",
     "output_type": "stream",
     "text": [
      "[b'1' b'2' b'3' b'4']\n",
      "|S1\n"
     ]
    }
   ],
   "source": [
    "#creating an array with datatype string\n",
    "arr = np.array([1,2,3,4],dtype='S')\n",
    "print(arr)\n",
    "print(arr.dtype)"
   ]
  },
  {
   "cell_type": "code",
   "execution_count": 4,
   "id": "116c9abe",
   "metadata": {},
   "outputs": [
    {
     "name": "stdout",
     "output_type": "stream",
     "text": [
      "[1 2 3 4]\n",
      "int32\n"
     ]
    }
   ],
   "source": [
    "#create an array with data type 4/2/8 bytes integer\n",
    "arr = np.array([1,2.,3,4],dtype='i4')\n",
    "print(arr)\n",
    "print(arr.dtype)"
   ]
  },
  {
   "cell_type": "markdown",
   "id": "076f1e65",
   "metadata": {},
   "source": [
    "astype() method - use to change the datatypes of existing array and to make a copy of the array with this method ,used to specify the data type as a parameter ,\n",
    "we can use data type using string like : 'f' for float 'i' for integer or can use directly data type like float or int"
   ]
  },
  {
   "cell_type": "code",
   "execution_count": 5,
   "id": "5b727cc4",
   "metadata": {},
   "outputs": [
    {
     "name": "stdout",
     "output_type": "stream",
     "text": [
      "[1 1 1 2]\n",
      "int32\n"
     ]
    }
   ],
   "source": [
    "#using astype() method \n",
    "arr=np.array([1.0,1.1,1.6,2])\n",
    "n_arr =arr.astype('i')# can use int also\n",
    "print(n_arr)\n",
    "print(n_arr.dtype)"
   ]
  },
  {
   "cell_type": "code",
   "execution_count": 6,
   "id": "ba8c6d1f",
   "metadata": {},
   "outputs": [
    {
     "name": "stdout",
     "output_type": "stream",
     "text": [
      "[ True  True  True]\n"
     ]
    }
   ],
   "source": [
    "arr=np.array([1.0,1.1,1.6])\n",
    "n_arr=arr.astype(bool)\n",
    "print(n_arr)"
   ]
  },
  {
   "cell_type": "markdown",
   "id": "8c8f5811",
   "metadata": {},
   "source": [
    "### copy vs view"
   ]
  },
  {
   "cell_type": "code",
   "execution_count": 4,
   "id": "50a40882",
   "metadata": {},
   "outputs": [
    {
     "name": "stdout",
     "output_type": "stream",
     "text": [
      "[42  2  3  4  5]\n",
      "[1 2 3 4 5]\n"
     ]
    }
   ],
   "source": [
    "#copy-used to own data,changes in copy will not effect original array \n",
    "arr=np.array([1,2,3,4,5])\n",
    "x=arr.copy()\n",
    "arr[0]=42\n",
    "print(arr)\n",
    "print(x)"
   ]
  },
  {
   "cell_type": "code",
   "execution_count": 5,
   "id": "84c0dbf6",
   "metadata": {},
   "outputs": [
    {
     "name": "stdout",
     "output_type": "stream",
     "text": [
      "[42  2  3  4  5]\n",
      "[42  2  3  4  5]\n"
     ]
    }
   ],
   "source": [
    "#view() method -view of original array\n",
    "arr=np.array([1,2,3,4,5])\n",
    "x=arr.view()\n",
    "arr[0]=42\n",
    "print(arr)\n",
    "print(x)"
   ]
  },
  {
   "cell_type": "code",
   "execution_count": 9,
   "id": "b46f05db",
   "metadata": {},
   "outputs": [
    {
     "name": "stdout",
     "output_type": "stream",
     "text": [
      "[1 2 3 4 5]\n",
      "None\n",
      "[1 2 3 4 5]\n"
     ]
    }
   ],
   "source": [
    "#print the value of the base to check if an array owns data or not\n",
    "arr=np.array([1,2,3,4,5])\n",
    "x=arr.copy()\n",
    "y=arr.view()\n",
    "\n",
    "print(arr)\n",
    "#every numpy array has the attribute base that returns \"None\" if the array owns the data\n",
    "print(x.base)\n",
    "print(y.base)"
   ]
  },
  {
   "cell_type": "markdown",
   "id": "ca71290f",
   "metadata": {},
   "source": [
    "### Numpy array shape\n"
   ]
  },
  {
   "cell_type": "code",
   "execution_count": 18,
   "id": "48c89341",
   "metadata": {},
   "outputs": [
    {
     "name": "stdout",
     "output_type": "stream",
     "text": [
      "(2, 3)\n"
     ]
    }
   ],
   "source": [
    "#print shape of 2-D array\n",
    "arr = np.array([[1, 2, 3],[6,7,8]])\n",
    "print(arr.shape)\n",
    "\n",
    "#it will print (2,3) which means simply (rows-no of vectors,columns-no of elemnts)"
   ]
  },
  {
   "cell_type": "code",
   "execution_count": 12,
   "id": "b40188aa",
   "metadata": {},
   "outputs": [
    {
     "name": "stdout",
     "output_type": "stream",
     "text": [
      "[[[[[1 2 3 4]]]]]\n",
      "shape of array : (1, 1, 1, 1, 4)\n"
     ]
    }
   ],
   "source": [
    "#create an 5-d array using ndmin using a vector [1,2,3,4] and verify last dimension has value 4\n",
    "arr = np.array([1, 2, 3, 4], ndmin=5)\n",
    "\n",
    "print(arr)\n",
    "print('shape of array :', arr.shape) "
   ]
  },
  {
   "cell_type": "code",
   "execution_count": 3,
   "id": "4645dbbe",
   "metadata": {
    "scrolled": true
   },
   "outputs": [
    {
     "name": "stdout",
     "output_type": "stream",
     "text": [
      "1-d array to 2-d array [[ 1  2  3]\n",
      " [ 4  5  6]\n",
      " [ 7  8  9]\n",
      " [10 11 12]]\n",
      "1-d array to 3-d [[[ 1  2]\n",
      "  [ 3  4]]\n",
      "\n",
      " [[ 5  6]\n",
      "  [ 7  8]]\n",
      "\n",
      " [[ 9 10]\n",
      "  [11 12]]]\n",
      "convert the array into 1-d [ 1  2  3  4  5  6  7  8  9 10 11 12]\n",
      "[ 1  2  3  4  5  6  7  8  9 10 11 12]\n"
     ]
    }
   ],
   "source": [
    "#use reshape(no of array,no of elements per array) method to change the shape of array from 1d to 2d\n",
    "arr=np.array([1, 2, 3, 4, 5, 6, 7, 8, 9,10,11,12])\n",
    "newarr=arr.reshape(4,3)#convert 1-d array with 12 elements into a 2-d array\n",
    "print(\"1-d array to 2-d array\",newarr)\n",
    "newarr=arr.reshape(3,2,2)\n",
    "print(\"1-d array to 3-d\",newarr)\n",
    "n2=arr.reshape(-1)\n",
    "print(\"convert the array into 1-d\",n2)\n",
    "print(arr.reshape(6,2).base)"
   ]
  },
  {
   "cell_type": "markdown",
   "id": "b7e075b9",
   "metadata": {},
   "source": [
    "### NumPy Array Iterating"
   ]
  },
  {
   "cell_type": "code",
   "execution_count": 7,
   "id": "0971bfc7",
   "metadata": {},
   "outputs": [
    {
     "name": "stdout",
     "output_type": "stream",
     "text": [
      "iterating on the elements of the following 1-d array:\n",
      "1\n",
      "2\n",
      "3\n"
     ]
    }
   ],
   "source": [
    "#iterating on 1-d array\n",
    "arr =np.array([1,2,3])\n",
    "print(\"iterating on the elements of the following 1-d array:\")\n",
    "for x in arr:\n",
    "    print(x)"
   ]
  },
  {
   "cell_type": "code",
   "execution_count": 9,
   "id": "910dd014",
   "metadata": {},
   "outputs": [
    {
     "name": "stdout",
     "output_type": "stream",
     "text": [
      "iterating on the elements of the following 2-d array:\n",
      "[1 2 3]\n",
      "[4 5 6]\n",
      "iterating on each Scalar element of the 2-d array:\n",
      "1\n",
      "2\n",
      "3\n",
      "4\n",
      "5\n",
      "6\n"
     ]
    }
   ],
   "source": [
    "#iterating on 2-d array\n",
    "arr =np.array([[1,2,3],[4,5,6]])\n",
    "print(\"iterating on the elements of the following 2-d array:\")\n",
    "for x in arr:\n",
    "    print(x)\n",
    "print(\"iterating on each Scalar element of the 2-d array:\")\n",
    "for x in arr:\n",
    "    for y in x:\n",
    "        print(y)"
   ]
  },
  {
   "cell_type": "code",
   "execution_count": 12,
   "id": "596e8f31",
   "metadata": {},
   "outputs": [
    {
     "name": "stdout",
     "output_type": "stream",
     "text": [
      "iterating on element of the 3-d array:\n",
      "[[1 2 3]\n",
      " [4 5 6]]\n",
      "[[ 7  8  9]\n",
      " [10 11 12]]\n",
      "iterate down to scalars in 3-d array:\n",
      "1\n",
      "2\n",
      "3\n",
      "4\n",
      "5\n",
      "6\n",
      "7\n",
      "8\n",
      "9\n",
      "10\n",
      "11\n",
      "12\n"
     ]
    }
   ],
   "source": [
    "#iterating on 3-d array , in 3-d it will go through 2-d arrays\n",
    "arr =np.array([[[1, 2, 3], [4, 5, 6]], [[7, 8, 9], [10, 11, 12]]])\n",
    "print(\"iterating on element of the 3-d array:\")\n",
    "for x in arr:\n",
    "    print(x)\n",
    "print(\"iterate down to scalars in 3-d array:\")\n",
    "for x in arr:\n",
    "    for y in x:\n",
    "        for z in y:\n",
    "            print(z)\n"
   ]
  },
  {
   "cell_type": "markdown",
   "id": "b6ef4bdd",
   "metadata": {},
   "source": [
    "nditer()function is used from very basic to very advnaced iterations  \n"
   ]
  },
  {
   "cell_type": "code",
   "execution_count": 13,
   "id": "a9c2f485",
   "metadata": {},
   "outputs": [
    {
     "name": "stdout",
     "output_type": "stream",
     "text": [
      "iterating using nditer() function\n",
      "1\n",
      "2\n",
      "3\n",
      "4\n",
      "5\n",
      "6\n",
      "7\n",
      "8\n"
     ]
    }
   ],
   "source": [
    "# Iterating arrays using nditer() function\n",
    "arr = np.array([[[1, 2], [3, 4]], [[5, 6], [7, 8]]])\n",
    "print(\"iterating using nditer() function\")\n",
    "for x in np.nditer(arr):\n",
    "    print(x)"
   ]
  },
  {
   "cell_type": "code",
   "execution_count": 17,
   "id": "c75e7221",
   "metadata": {},
   "outputs": [
    {
     "name": "stdout",
     "output_type": "stream",
     "text": [
      "iterating through the array as a string\n",
      "b'1'\n",
      "b'2'\n",
      "b'3'\n"
     ]
    }
   ],
   "source": [
    "#iterating array with different data types\n",
    "arr = np.array([1,2,3])\n",
    "print(\"iterating through the array as a string\")\n",
    "for x in np.nditer(arr,flags=['buffered'],op_dtypes=['S']):\n",
    "    print(x)"
   ]
  },
  {
   "cell_type": "code",
   "execution_count": 10,
   "id": "4a1caeac",
   "metadata": {},
   "outputs": [
    {
     "name": "stdout",
     "output_type": "stream",
     "text": [
      "iterating through every scalar element of 2-d array skipping 1 element\n",
      "1\n",
      "3\n",
      "5\n",
      "7\n"
     ]
    }
   ],
   "source": [
    "#iterating with different steo size\n",
    "arr = np.array([[1, 2, 3, 4], [5, 6, 7, 8]])\n",
    "print(\"iterating through every scalar element of 2-d array skipping 1 element\")\n",
    "for x in np.nditer(arr[:,::2]):\n",
    "    print(x)"
   ]
  },
  {
   "cell_type": "markdown",
   "id": "281aed27",
   "metadata": {},
   "source": [
    "Enumeration means mentioning sequence number of somethings one by one."
   ]
  },
  {
   "cell_type": "code",
   "execution_count": 30,
   "id": "c10ce20f",
   "metadata": {
    "scrolled": true
   },
   "outputs": [
    {
     "name": "stdout",
     "output_type": "stream",
     "text": [
      "Enumerate on 1-d array elements\n",
      "(0,) 1\n",
      "(1,) 2\n",
      "(2,) 3\n",
      "(3,) 4\n",
      "Enumerate on 2-d arrays elements\n",
      "(0, 0) 1\n",
      "(0, 1) 2\n",
      "(0, 2) 3\n",
      "(0, 3) 4\n",
      "(1, 0) 5\n",
      "(1, 1) 6\n",
      "(1, 2) 7\n",
      "(1, 3) 8\n"
     ]
    }
   ],
   "source": [
    "#Enumerated iteration using ndenumerate()\n",
    "arr = np.array([1,2,3,4])\n",
    "print(\"Enumerate on 1-d array elements\")\n",
    "for idx, x in np.ndenumerate(arr):\n",
    "    print(idx,x)\n",
    "\n",
    "arr = np.array([[1, 2, 3, 4], [5, 6, 7, 8]])\n",
    "print(\"Enumerate on 2-d arrays elements\")\n",
    "for p, x in np.ndenumerate(arr):\n",
    "  print(p, x) "
   ]
  },
  {
   "cell_type": "markdown",
   "id": "a976af79",
   "metadata": {},
   "source": [
    "### NumPy Joining Array\n"
   ]
  },
  {
   "cell_type": "code",
   "execution_count": 6,
   "id": "8e84d11e",
   "metadata": {},
   "outputs": [
    {
     "name": "stdout",
     "output_type": "stream",
     "text": [
      "joining arr1 and arr2:\n",
      "[1 2 3 4 5 6]\n"
     ]
    }
   ],
   "source": [
    "#join two arrays\n",
    "arr1 = np.array([1,2,3])\n",
    "arr2 = np.array([4,5,6])\n",
    "arr = np.concatenate((arr1,arr2))\n",
    "print(\"joining arr1 and arr2:\")\n",
    "print(arr)"
   ]
  },
  {
   "cell_type": "code",
   "execution_count": 13,
   "id": "1cb3fe14",
   "metadata": {},
   "outputs": [
    {
     "name": "stdout",
     "output_type": "stream",
     "text": [
      "[[1 2 5 6]\n",
      " [3 4 7 8]]\n"
     ]
    }
   ],
   "source": [
    "#join two 2-d arrays along rows (axis=1):\n",
    "arr1 = np.array([[1,2],[3,4]])\n",
    "arr2 = np.array([[5,6],[7,8]])\n",
    "arr = np.concatenate((arr1,arr2), axis=1)\n",
    "print(arr)"
   ]
  },
  {
   "cell_type": "code",
   "execution_count": 13,
   "id": "c1968775",
   "metadata": {},
   "outputs": [
    {
     "name": "stdout",
     "output_type": "stream",
     "text": [
      "[[1 4]\n",
      " [2 5]\n",
      " [3 6]]\n"
     ]
    }
   ],
   "source": [
    "#joining Arrays Using Stack() Functions\n",
    "arr1 = np.array([1, 2, 3])\n",
    "\n",
    "arr2 = np.array([4, 5, 6])\n",
    "\n",
    "arr = np.stack((arr1, arr2),axis=1)\n",
    "\n",
    "print(arr) "
   ]
  },
  {
   "cell_type": "code",
   "execution_count": 14,
   "id": "1db7fbbf",
   "metadata": {},
   "outputs": [
    {
     "name": "stdout",
     "output_type": "stream",
     "text": [
      "hstack() to stack along rows\n",
      "[1 2 3 4 5 6]\n"
     ]
    }
   ],
   "source": [
    "#stacking along rows using helper function hstack()to stack along rows:\n",
    "arr1 = np.array([1, 2, 3])\n",
    "\n",
    "arr2 = np.array([4, 5, 6])\n",
    "\n",
    "arr = np.hstack((arr1,arr2))\n",
    "print(\"hstack() to stack along rows\")\n",
    "print(arr)\n"
   ]
  },
  {
   "cell_type": "code",
   "execution_count": 11,
   "id": "00f5c82b",
   "metadata": {},
   "outputs": [
    {
     "name": "stdout",
     "output_type": "stream",
     "text": [
      "vstack() to stack along columns\n",
      "[[1 2 3]\n",
      " [4 5 6]]\n"
     ]
    }
   ],
   "source": [
    "#stack along columns vstack() to stack along columns\n",
    "arr1 = np.array([1, 2, 3])\n",
    "\n",
    "arr2 = np.array([4, 5, 6])\n",
    "arr = np.vstack((arr1,arr2))\n",
    "print(\"vstack() to stack along columns\")\n",
    "print(arr)"
   ]
  },
  {
   "cell_type": "code",
   "execution_count": 16,
   "id": "56bda027",
   "metadata": {},
   "outputs": [
    {
     "name": "stdout",
     "output_type": "stream",
     "text": [
      "stacking along height using dstack()\n",
      "[[[1 4]\n",
      "  [2 5]\n",
      "  [3 6]]]\n"
     ]
    }
   ],
   "source": [
    "#stacking along height(depth)\n",
    "#dstack() to stack along height,same as depth\n",
    "arr1 = np.array([1, 2, 3])\n",
    "\n",
    "arr2 = np.array([4, 5, 6])\n",
    "arr = np.dstack((arr1,arr2))\n",
    "print(\"stacking along height using dstack()\")\n",
    "print(arr)"
   ]
  },
  {
   "cell_type": "markdown",
   "id": "5dd2dce1",
   "metadata": {},
   "source": [
    "### Numpy Splitting Array"
   ]
  },
  {
   "cell_type": "code",
   "execution_count": 23,
   "id": "c08f4fc6",
   "metadata": {},
   "outputs": [
    {
     "name": "stdout",
     "output_type": "stream",
     "text": [
      "[array([1, 2]), array([3, 4]), array([5, 6])]\n",
      "[array([1, 2]), array([3, 4]), array([5]), array([6])]\n"
     ]
    }
   ],
   "source": [
    "#split the array in 3 parts\n",
    "#if array has less elements than reqired , it will adjust from the end\n",
    "\n",
    "arr = np.array([1, 2, 3, 4, 5, 6])\n",
    "\n",
    "newarr = np.split(arr, 3)\n",
    "#split array in 4 parts\n",
    "newarr2 = np.array_split(arr, 4)\n",
    "print(newarr) \n",
    "print(newarr2)"
   ]
  },
  {
   "cell_type": "code",
   "execution_count": 26,
   "id": "011a2977",
   "metadata": {},
   "outputs": [
    {
     "name": "stdout",
     "output_type": "stream",
     "text": [
      "[1 2]\n",
      "[3 4]\n",
      "[5]\n",
      "[6]\n"
     ]
    }
   ],
   "source": [
    "#split into arrays\n",
    "#Acess the splitted arrays\n",
    "arr = np.array([1, 2, 3, 4, 5, 6])\n",
    "\n",
    "newarr = np.array_split(arr, 4)\n",
    "\n",
    "print(newarr[0])\n",
    "print(newarr[1])\n",
    "print(newarr[2]) \n",
    "print(newarr[3]) \n"
   ]
  },
  {
   "cell_type": "code",
   "execution_count": 31,
   "id": "1e841880",
   "metadata": {},
   "outputs": [
    {
     "name": "stdout",
     "output_type": "stream",
     "text": [
      "[array([[1, 2],\n",
      "       [3, 4]]), array([[5, 6],\n",
      "       [7, 8]]), array([[ 9, 10],\n",
      "       [11, 12]])]\n"
     ]
    }
   ],
   "source": [
    "#Split the 2-d arrays into three 2-d arrays\n",
    "arr = np.array([[1, 2], [3, 4], [5, 6], [7, 8], [9, 10], [11, 12]])\n",
    "\n",
    "newarr = np.array_split(arr,3)\n",
    "\n",
    "print(newarr)"
   ]
  },
  {
   "cell_type": "code",
   "execution_count": 32,
   "id": "6f39d33c",
   "metadata": {},
   "outputs": [
    {
     "name": "stdout",
     "output_type": "stream",
     "text": [
      "[array([[1, 2, 3],\n",
      "       [4, 5, 6]]), array([[ 7,  8,  9],\n",
      "       [10, 11, 12]]), array([[13, 14, 15],\n",
      "       [16, 17, 18]])]\n"
     ]
    }
   ],
   "source": [
    "#Split the 2-d array into three 2-d arrays.\n",
    "arr = np.array([[1, 2, 3], [4, 5, 6], [7, 8, 9], [10, 11, 12], [13, 14, 15], [16, 17, 18]])\n",
    "\n",
    "newarr = np.array_split(arr,3)\n",
    "\n",
    "print(newarr)"
   ]
  },
  {
   "cell_type": "code",
   "execution_count": 36,
   "id": "7abb4e4a",
   "metadata": {},
   "outputs": [
    {
     "name": "stdout",
     "output_type": "stream",
     "text": [
      "[array([[ 1],\n",
      "       [ 4],\n",
      "       [ 7],\n",
      "       [10],\n",
      "       [13],\n",
      "       [16]]), array([[ 2],\n",
      "       [ 5],\n",
      "       [ 8],\n",
      "       [11],\n",
      "       [14],\n",
      "       [17]]), array([[ 3],\n",
      "       [ 6],\n",
      "       [ 9],\n",
      "       [12],\n",
      "       [15],\n",
      "       [18]])]\n"
     ]
    }
   ],
   "source": [
    "# Split the 2-D array into three 2-D arrays along rows.\n",
    "arr = np.array([[1, 2, 3], [4, 5, 6], [7, 8, 9], [10, 11, 12], [13, 14, 15], [16, 17, 18]])\n",
    "\n",
    "newarr = np.array_split(arr, 3, axis=1)\n",
    "\n",
    "print(newarr) "
   ]
  },
  {
   "cell_type": "code",
   "execution_count": 37,
   "id": "a654bf33",
   "metadata": {},
   "outputs": [
    {
     "name": "stdout",
     "output_type": "stream",
     "text": [
      "[array([[ 1],\n",
      "       [ 4],\n",
      "       [ 7],\n",
      "       [10],\n",
      "       [13],\n",
      "       [16]]), array([[ 2],\n",
      "       [ 5],\n",
      "       [ 8],\n",
      "       [11],\n",
      "       [14],\n",
      "       [17]]), array([[ 3],\n",
      "       [ 6],\n",
      "       [ 9],\n",
      "       [12],\n",
      "       [15],\n",
      "       [18]])]\n"
     ]
    }
   ],
   "source": [
    "#hsplit() method to split 2-d array into three 2-d arrays along rows\n",
    "newarr = np.hsplit(arr,3)\n",
    "print(newarr)"
   ]
  },
  {
   "cell_type": "markdown",
   "id": "6f7b1050",
   "metadata": {},
   "source": [
    "Similar alternative to vstack() and dstack() are available as vsplit() and dsplit().\n"
   ]
  },
  {
   "cell_type": "markdown",
   "id": "50cea6e1",
   "metadata": {},
   "source": [
    "### numpy searching arrays\n"
   ]
  },
  {
   "cell_type": "code",
   "execution_count": 52,
   "id": "b7199836",
   "metadata": {},
   "outputs": [],
   "source": [
    "#to search array,use the where() method.\n",
    "arr = np.array([1, 2, 3, 4, 5, 4, 4,7,8])"
   ]
  },
  {
   "cell_type": "code",
   "execution_count": 42,
   "id": "c83935e3",
   "metadata": {},
   "outputs": [
    {
     "name": "stdout",
     "output_type": "stream",
     "text": [
      "(array([3, 5, 6], dtype=int64),)\n"
     ]
    }
   ],
   "source": [
    "a = np.where(arr == 4)\n",
    "print(a)"
   ]
  },
  {
   "cell_type": "code",
   "execution_count": 44,
   "id": "f0b97eed",
   "metadata": {},
   "outputs": [
    {
     "name": "stdout",
     "output_type": "stream",
     "text": [
      "(array([1, 3, 5, 6, 8], dtype=int64),)\n"
     ]
    }
   ],
   "source": [
    "#find index where the values are even\n",
    "even = np.where(arr%2==0)\n",
    "print(even)"
   ]
  },
  {
   "cell_type": "code",
   "execution_count": 47,
   "id": "79fa89eb",
   "metadata": {},
   "outputs": [
    {
     "name": "stdout",
     "output_type": "stream",
     "text": [
      "(array([0, 2, 4, 7], dtype=int64),)\n"
     ]
    }
   ],
   "source": [
    "#find index where values are odd\n",
    "odd = np.where(arr%2 ==1)\n",
    "print(odd)"
   ]
  },
  {
   "cell_type": "markdown",
   "id": "5067d2e7",
   "metadata": {},
   "source": [
    "#search sorted \n",
    "\n",
    "#searchsorted() method is used to find the index where value would be inserted to maintain the search order\n",
    "\n",
    "#assumed to use on sorted arrays\n"
   ]
  },
  {
   "cell_type": "code",
   "execution_count": 30,
   "id": "08b9d465",
   "metadata": {},
   "outputs": [
    {
     "name": "stdout",
     "output_type": "stream",
     "text": [
      "0\n"
     ]
    }
   ],
   "source": [
    "#find index value where value 7 should be inserted\n",
    "x = np.searchsorted(arr,7)\n",
    "print(x)"
   ]
  },
  {
   "cell_type": "code",
   "execution_count": null,
   "id": "f4ef3dec",
   "metadata": {},
   "outputs": [],
   "source": [
    "#side=right :starts with index value 1 and 'left' starts with index value 0\n",
    "arr = np.array([2,4,6,7])\n",
    "x = np.searchsorted(arr, 2,side='right')\n",
    "print(x)"
   ]
  },
  {
   "cell_type": "code",
   "execution_count": 25,
   "id": "af22cade",
   "metadata": {},
   "outputs": [
    {
     "name": "stdout",
     "output_type": "stream",
     "text": [
      "[2 4 0]\n"
     ]
    }
   ],
   "source": [
    "#find multiple values\n",
    "arr = np.array([1,2,3,4,5])\n",
    "x = np.searchsorted(arr,[3,5,1])\n",
    "print(x)"
   ]
  },
  {
   "cell_type": "code",
   "execution_count": 26,
   "id": "40b05aa5",
   "metadata": {},
   "outputs": [
    {
     "name": "stdout",
     "output_type": "stream",
     "text": [
      "[1 2 2 3 4 7]\n"
     ]
    }
   ],
   "source": [
    "#sorting arrrays use sort()method\n",
    "arr =np.array([4,2,7,2,3,1])\n",
    "print(np.sort(arr))"
   ]
  },
  {
   "cell_type": "markdown",
   "id": "2a464d5e",
   "metadata": {},
   "source": [
    "note: this method returns the copy of the array , leaving the original one unchanged"
   ]
  },
  {
   "cell_type": "code",
   "execution_count": 31,
   "id": "2ce32065",
   "metadata": {},
   "outputs": [
    {
     "name": "stdout",
     "output_type": "stream",
     "text": [
      "['blue' 'green' 'grey' 'red' 'yellow']\n"
     ]
    }
   ],
   "source": [
    "#sort array alphabatically\n",
    "arr = np.array(['yellow','green','blue','red','grey'])\n",
    "print(np.sort(arr))"
   ]
  },
  {
   "cell_type": "code",
   "execution_count": 32,
   "id": "90a0ba7f",
   "metadata": {},
   "outputs": [],
   "source": [
    "#sort array can sort 2-d array as well as boolean array also"
   ]
  },
  {
   "cell_type": "markdown",
   "id": "e86690cc",
   "metadata": {},
   "source": [
    "### Filtering arrays"
   ]
  },
  {
   "cell_type": "code",
   "execution_count": 35,
   "id": "63b594fb",
   "metadata": {},
   "outputs": [
    {
     "name": "stdout",
     "output_type": "stream",
     "text": [
      "[22 24]\n"
     ]
    }
   ],
   "source": [
    "#filter an array using a boolean index list\n",
    "#\n",
    "arr =np.array([22,24,30,47])\n",
    "\n",
    "x = [True,True,False,False]\n",
    "\n",
    "newarr = arr[x]\n",
    "print(newarr)"
   ]
  },
  {
   "cell_type": "code",
   "execution_count": 36,
   "id": "b211f6a8",
   "metadata": {},
   "outputs": [
    {
     "name": "stdout",
     "output_type": "stream",
     "text": [
      "[23 45 60 22 10 30]\n",
      "[False, True, True, False, False, False]\n",
      "[45 60]\n"
     ]
    }
   ],
   "source": [
    "#create a filter array that will return only values higher than 30:\n",
    "arr = np.array([23,45,60,22,10,30])\n",
    "\n",
    "#creating empty list\n",
    "filter_arr = []\n",
    "\n",
    "#go through each element of the array\n",
    "for x in arr:\n",
    "#if the value is higher than 30 ,set the value to True or else false\n",
    "    if x > 30:\n",
    "        filter_arr.append(True)\n",
    "    else:\n",
    "        filter_arr.append(False)\n",
    "        \n",
    "newarr = arr[filter_arr]\n",
    "print(arr)\n",
    "print(filter_arr)\n",
    "print(newarr)"
   ]
  },
  {
   "cell_type": "code",
   "execution_count": 37,
   "id": "8389ed76",
   "metadata": {},
   "outputs": [
    {
     "name": "stdout",
     "output_type": "stream",
     "text": [
      "[23 45 60 22 10 30]\n",
      "[False, False, True, True, True, True]\n",
      "[60 22 10 30]\n"
     ]
    }
   ],
   "source": [
    "#create a filter that will return even values or elements from the array\n",
    "\n",
    "arr = np.array([23,45,60,22,10,30])\n",
    "\n",
    "#creating empty list\n",
    "filter_arr = []\n",
    "\n",
    "#go through each element\n",
    "for x in arr:\n",
    "    if x%2 == 0:\n",
    "        filter_arr.append(True)\n",
    "    else:\n",
    "        filter_arr.append(False)\n",
    "        \n",
    "newarr = arr[filter_arr]\n",
    "\n",
    "print(arr)\n",
    "print(filter_arr)\n",
    "print(newarr)"
   ]
  },
  {
   "cell_type": "code",
   "execution_count": 38,
   "id": "ac8fae2f",
   "metadata": {},
   "outputs": [],
   "source": [
    "#we can use this method for creating filter directly from array"
   ]
  },
  {
   "cell_type": "markdown",
   "id": "2688d21f",
   "metadata": {},
   "source": [
    "..."
   ]
  },
  {
   "cell_type": "markdown",
   "id": "8dbb5270",
   "metadata": {},
   "source": [
    "### Random Numbers in Numpy"
   ]
  },
  {
   "cell_type": "markdown",
   "id": "1299621e",
   "metadata": {},
   "source": [
    "#### generate random numbers"
   ]
  },
  {
   "cell_type": "code",
   "execution_count": 39,
   "id": "8eba3e8b",
   "metadata": {},
   "outputs": [],
   "source": [
    "#generate a random integer from 0 to 100"
   ]
  },
  {
   "cell_type": "code",
   "execution_count": 40,
   "id": "0400e14b",
   "metadata": {},
   "outputs": [],
   "source": [
    "from numpy import random"
   ]
  },
  {
   "cell_type": "code",
   "execution_count": 41,
   "id": "330d98e5",
   "metadata": {},
   "outputs": [
    {
     "name": "stdout",
     "output_type": "stream",
     "text": [
      "70\n"
     ]
    }
   ],
   "source": [
    "x = random.randint(100)\n",
    "print(x)"
   ]
  },
  {
   "cell_type": "markdown",
   "id": "c9efd8b2",
   "metadata": {},
   "source": [
    "#### generate random float"
   ]
  },
  {
   "cell_type": "code",
   "execution_count": 42,
   "id": "d18badcb",
   "metadata": {},
   "outputs": [
    {
     "name": "stdout",
     "output_type": "stream",
     "text": [
      "0.3486512936370443\n"
     ]
    }
   ],
   "source": [
    "#rand()method returns random float between 0 to 1\n",
    "\n",
    "x=random.rand()\n",
    "print(x)\n"
   ]
  },
  {
   "cell_type": "markdown",
   "id": "797e01ff",
   "metadata": {},
   "source": [
    "#### generate random array"
   ]
  },
  {
   "cell_type": "markdown",
   "id": "d03cf1d8",
   "metadata": {},
   "source": [
    "#integers\n",
    "\n",
    "#randint() method takes a size parameter where you can specify the shape of an array\n"
   ]
  },
  {
   "cell_type": "code",
   "execution_count": 43,
   "id": "2fe2cb2e",
   "metadata": {},
   "outputs": [
    {
     "name": "stdout",
     "output_type": "stream",
     "text": [
      "[59  3 98 11  5]\n"
     ]
    }
   ],
   "source": [
    "#genarte a 1-d array containing 5 random integers from 0 to 100\n",
    "\n",
    "x= random.randint(100, size=(5))\n",
    "print(x)"
   ]
  },
  {
   "cell_type": "code",
   "execution_count": 44,
   "id": "d65f3d1c",
   "metadata": {},
   "outputs": [
    {
     "name": "stdout",
     "output_type": "stream",
     "text": [
      "[[52  3 40  8 61]\n",
      " [59 90  0 95 33]\n",
      " [21 89 39 66 54]]\n"
     ]
    }
   ],
   "source": [
    "#generate a 2-d array with 3 rows ,each row containing 5 random integers from 0-100:\n",
    "x = random.randint(100,size=(3,5))\n",
    "print(x)"
   ]
  },
  {
   "cell_type": "raw",
   "id": "3c08ad4c",
   "metadata": {},
   "source": [
    "#floats\n",
    "#rand() method to specify the shape of array\n"
   ]
  },
  {
   "cell_type": "code",
   "execution_count": 45,
   "id": "5b237670",
   "metadata": {},
   "outputs": [
    {
     "name": "stdout",
     "output_type": "stream",
     "text": [
      "[0.72694012 0.97586199 0.507811   0.91429322 0.67720644]\n"
     ]
    }
   ],
   "source": [
    "#genarte 1-d array containing  5 random floats\n",
    "x = random.rand(5)\n",
    "print(x)"
   ]
  },
  {
   "cell_type": "code",
   "execution_count": 46,
   "id": "b0bf5ddc",
   "metadata": {},
   "outputs": [
    {
     "name": "stdout",
     "output_type": "stream",
     "text": [
      "[[0.79474772 0.99604535 0.51580714 0.37537923 0.3547403 ]\n",
      " [0.36113789 0.14731912 0.82477335 0.30748483 0.92761226]\n",
      " [0.58899464 0.46272476 0.01837698 0.42108942 0.32796141]]\n"
     ]
    }
   ],
   "source": [
    "#genarte a 2- d array with 3 rows , each row conatining 5 random floats\n",
    "x = random.rand(3,5)\n",
    "print(x)"
   ]
  },
  {
   "cell_type": "markdown",
   "id": "c3d037d7",
   "metadata": {},
   "source": [
    "Generate Random Numbers from Array\n",
    "\n",
    "#choice() method used to generate random value based on an array of values.\n",
    "\n",
    "#this method takes an array as a parameter \n",
    "\n",
    "#size parameter to specify the shape of the array\n"
   ]
  },
  {
   "cell_type": "code",
   "execution_count": 47,
   "id": "7ff3fc28",
   "metadata": {},
   "outputs": [
    {
     "name": "stdout",
     "output_type": "stream",
     "text": [
      "2\n"
     ]
    }
   ],
   "source": [
    "#return one of the valves in an array\n",
    "x = random.choice([2,5,7,4])\n",
    "print(x)"
   ]
  },
  {
   "cell_type": "code",
   "execution_count": 48,
   "id": "5b5873a4",
   "metadata": {},
   "outputs": [
    {
     "name": "stdout",
     "output_type": "stream",
     "text": [
      "[[3 7 5 9 9]\n",
      " [7 5 3 3 9]\n",
      " [3 7 7 3 7]]\n"
     ]
    }
   ],
   "source": [
    "#generate a 2d array that consists of the values in the array parameter\n",
    "\n",
    "x = random.choice([3,5,7,9],size=(3,5))\n",
    "print(x)"
   ]
  },
  {
   "cell_type": "markdown",
   "id": "2f7be8eb",
   "metadata": {},
   "source": [
    "### Random data distribution"
   ]
  },
  {
   "cell_type": "markdown",
   "id": "ed23533e",
   "metadata": {},
   "source": [
    "We can generate random numbers based on defined probabilities using the choice() method of the random module.\n",
    "\n",
    "#choice() method specify the probability for each value.\n",
    "\n",
    "#The probability is set by a number between 0 and 1, where 0 means that the value will never occur and 1 means that the value will always occur.\n"
   ]
  },
  {
   "cell_type": "code",
   "execution_count": 49,
   "id": "313ee946",
   "metadata": {},
   "outputs": [
    {
     "name": "stdout",
     "output_type": "stream",
     "text": [
      "[5 2 5 2 2 3 5 5 5 5 5 5 5 2 5 3 5 3 3 5 5 5 5 3 3 2 5 2 5 5 3 2 5 5 5 3 5\n",
      " 5 5 5 3 5 5 5 2 2 5 3 5 2 3 5 5 5 2 5 3 3 5 3 5 5 3 5 2 5 5 5 5 3 2 2 2 5\n",
      " 3 3 5 5 5 2 2 2 5 2 2 2 5 3 5 5 2 5 5 3 5 3 2 3 5 5]\n"
     ]
    }
   ],
   "source": [
    "#generate a 1-d array containing 100 values,\n",
    "#where each value has to be the given array elements\n",
    "x = random.choice([2,3,5,7], p=[0.2,0.3,0.5,0.0], size=(100))\n",
    "print(x)"
   ]
  },
  {
   "cell_type": "code",
   "execution_count": 50,
   "id": "7bc1b71f",
   "metadata": {},
   "outputs": [
    {
     "name": "stdout",
     "output_type": "stream",
     "text": [
      "[[8 8 8 8 8]\n",
      " [2 3 8 8 2]\n",
      " [2 3 2 8 8]]\n"
     ]
    }
   ],
   "source": [
    "#same e.x as above, \n",
    "#but return 2-d array with 3 rows and each containing 5 values\n",
    "x = random.choice([2,3,5,8],p=[0.2,0.2,0.0,0.6], size=(3,5))\n",
    "print(x)"
   ]
  },
  {
   "cell_type": "markdown",
   "id": "3f2d644b",
   "metadata": {},
   "source": [
    "#### note: the sum of all probability numbers should be 1."
   ]
  },
  {
   "cell_type": "markdown",
   "id": "955e657f",
   "metadata": {},
   "source": [
    "....."
   ]
  },
  {
   "cell_type": "markdown",
   "id": "9b8aa0df",
   "metadata": {},
   "source": [
    "### Random permutations"
   ]
  },
  {
   "cell_type": "markdown",
   "id": "43cdb8df",
   "metadata": {},
   "source": [
    "->random permutations of elements\n",
    "\n",
    "->a permuation refers to an arrangement of elements.\n",
    "\n",
    "->e.x. [2,1,3] is a permutation of [1,2,3] and vice-versa.\n",
    "\n",
    "->there are 2 methods for this from numpy random :\n",
    "\n",
    "     1.shuffle()\n",
    "      -->means changing arrangement of elements in-place or in array or making chnages in original array\n",
    "      \n",
    "     2.permutation()\n",
    "      -->returns a re-arranged array and leaves the original array unchanged."
   ]
  },
  {
   "cell_type": "code",
   "execution_count": 51,
   "id": "2e348461",
   "metadata": {},
   "outputs": [
    {
     "name": "stdout",
     "output_type": "stream",
     "text": [
      "[5 2 3 1 4]\n"
     ]
    }
   ],
   "source": [
    "# randomly shuffle elemts of the following array\n",
    "\n",
    "arr = np.array([1,2,3,4,5])\n",
    "\n",
    "random.shuffle(arr)\n",
    "\n",
    "print(arr)"
   ]
  },
  {
   "cell_type": "code",
   "execution_count": 52,
   "id": "0d4740c2",
   "metadata": {},
   "outputs": [
    {
     "name": "stdout",
     "output_type": "stream",
     "text": [
      "[2 5 4 3 1]\n",
      "[1 2 3 4 5]\n"
     ]
    }
   ],
   "source": [
    "#generate a random permutation of elements of the elements of foll array:\n",
    "\n",
    "arr = np.array([1,2,3,4,5])\n",
    "\n",
    "print(random.permutation(arr))\n",
    "print(arr)\n",
    "\n"
   ]
  },
  {
   "cell_type": "markdown",
   "id": "4ffa679f",
   "metadata": {},
   "source": [
    "## Seaborn"
   ]
  },
  {
   "cell_type": "markdown",
   "id": "f757c1ca",
   "metadata": {},
   "source": [
    "-->Seaborn is a library that uses Matplotlib underneath to plot    graphs. \n",
    "\n",
    "-->It will be used to visualize random distributions."
   ]
  },
  {
   "cell_type": "markdown",
   "id": "1b1a49fa",
   "metadata": {},
   "source": [
    "### Displots"
   ]
  },
  {
   "cell_type": "markdown",
   "id": "2e398673",
   "metadata": {},
   "source": [
    "-->stands for distribution of plots\n",
    "\n",
    "-->it takes input as an array and plot a curve corresponding to the distribution of points in array."
   ]
  },
  {
   "cell_type": "code",
   "execution_count": 53,
   "id": "7521daea",
   "metadata": {},
   "outputs": [],
   "source": [
    "import matplotlib.pyplot as plt"
   ]
  },
  {
   "cell_type": "code",
   "execution_count": 54,
   "id": "9fd8d127",
   "metadata": {},
   "outputs": [],
   "source": [
    "import seaborn as sns"
   ]
  },
  {
   "cell_type": "code",
   "execution_count": 55,
   "id": "c1ae12bf",
   "metadata": {},
   "outputs": [
    {
     "name": "stderr",
     "output_type": "stream",
     "text": [
      "C:\\Users\\lenovo\\Desktop\\python\\new_project\\env\\lib\\site-packages\\seaborn\\distributions.py:2619: FutureWarning: `distplot` is a deprecated function and will be removed in a future version. Please adapt your code to use either `displot` (a figure-level function with similar flexibility) or `histplot` (an axes-level function for histograms).\n",
      "  warnings.warn(msg, FutureWarning)\n"
     ]
    },
    {
     "data": {
      "image/png": "[encoded data removed]",
      "text/plain": [
       "<Figure size 432x288 with 1 Axes>"
      ]
     },
     "metadata": {
      "needs_background": "light"
     },
     "output_type": "display_data"
    }
   ],
   "source": [
    "#plotting a displot\n",
    "sns.distplot([0,1,2,3,4,5])\n",
    "plt.show()"
   ]
  },
  {
   "cell_type": "code",
   "execution_count": 56,
   "id": "a1092738",
   "metadata": {},
   "outputs": [
    {
     "name": "stderr",
     "output_type": "stream",
     "text": [
      "C:\\Users\\lenovo\\Desktop\\python\\new_project\\env\\lib\\site-packages\\seaborn\\distributions.py:2619: FutureWarning: `distplot` is a deprecated function and will be removed in a future version. Please adapt your code to use either `displot` (a figure-level function with similar flexibility) or `kdeplot` (an axes-level function for kernel density plots).\n",
      "  warnings.warn(msg, FutureWarning)\n"
     ]
    },
    {
     "data": {
      "image/png": "[encoded data removed]",
      "text/plain": [
       "<Figure size 432x288 with 1 Axes>"
      ]
     },
     "metadata": {
      "needs_background": "light"
     },
     "output_type": "display_data"
    }
   ],
   "source": [
    "#plotting a displot without the histogram\n",
    "\n",
    "sns.distplot([0,1,2,3,4,5], hist=False)\n",
    "\n",
    "plt.show()"
   ]
  },
  {
   "cell_type": "markdown",
   "id": "7c440188",
   "metadata": {},
   "source": [
    "### Normal (Gussian) Distribution"
   ]
  },
  {
   "cell_type": "markdown",
   "id": "5b49cb04",
   "metadata": {},
   "source": [
    "-->Normal Distribution\n",
    "\n",
    "-->one of the most important distribution\n",
    "\n",
    "-->it is also called gussian distribution \n",
    "\n",
    "-->It fits the probability distribution of many events, eg. IQ Scores, Heartbeat etc.\n",
    "\n",
    "-->random.normal() method to gat a normal data distributions.\n",
    "\n",
    "-->it has three parameters:\n",
    "      \n",
    "      1.loc -(mean) where the peak of the bell exits.\n",
    "      2.scale-(standard deviation) how flat the graph distribution should be.\n",
    "      3.size-the shape of the returned array.\n"
   ]
  },
  {
   "cell_type": "code",
   "execution_count": 57,
   "id": "e13e62b9",
   "metadata": {},
   "outputs": [
    {
     "name": "stdout",
     "output_type": "stream",
     "text": [
      "[[-0.34865487  1.25799873 -0.61100196]\n",
      " [-1.00895269 -1.27840115  1.46096605]]\n"
     ]
    }
   ],
   "source": [
    "#Generate a random normal distribution of size 2x3:\n",
    "\n",
    "x = random.normal(size=(2,3))\n",
    "print(x)"
   ]
  },
  {
   "cell_type": "code",
   "execution_count": 58,
   "id": "a4619611",
   "metadata": {},
   "outputs": [
    {
     "name": "stdout",
     "output_type": "stream",
     "text": [
      "[[ 2.13888527  3.44656181  1.4073464 ]\n",
      " [ 0.1980993   2.00800211 -0.99841869]]\n"
     ]
    }
   ],
   "source": [
    "#Generate a random normal distribution of size 2x3 \n",
    "#with mean at 1 and standard deviation of 2\n",
    "\n",
    "x = random.normal(loc=1, scale=2, size=(2,3))\n",
    "\n",
    "print(x)"
   ]
  },
  {
   "cell_type": "markdown",
   "id": "6bc5a3cc",
   "metadata": {},
   "source": [
    "visualization of normal distribution\n"
   ]
  },
  {
   "cell_type": "code",
   "execution_count": 59,
   "id": "100f4db1",
   "metadata": {},
   "outputs": [
    {
     "name": "stderr",
     "output_type": "stream",
     "text": [
      "C:\\Users\\lenovo\\Desktop\\python\\new_project\\env\\lib\\site-packages\\seaborn\\distributions.py:2619: FutureWarning: `distplot` is a deprecated function and will be removed in a future version. Please adapt your code to use either `displot` (a figure-level function with similar flexibility) or `kdeplot` (an axes-level function for kernel density plots).\n",
      "  warnings.warn(msg, FutureWarning)\n"
     ]
    },
    {
     "data": {
      "image/png": "[encoded data removed]",
      "text/plain": [
       "<Figure size 432x288 with 1 Axes>"
      ]
     },
     "metadata": {
      "needs_background": "light"
     },
     "output_type": "display_data"
    }
   ],
   "source": [
    "sns.distplot(random.normal(size=1000),hist=False)\n",
    "\n",
    "plt.show()"
   ]
  },
  {
   "cell_type": "markdown",
   "id": "8fcf2edc",
   "metadata": {},
   "source": [
    "#### Note:the curve of a normal distribution is also known as Bell Curve beacuse of the bell-shaped curve"
   ]
  },
  {
   "cell_type": "markdown",
   "id": "39d2adbb",
   "metadata": {},
   "source": [
    "### Binomial distribution"
   ]
  },
  {
   "cell_type": "markdown",
   "id": "686c855e",
   "metadata": {},
   "source": [
    "-->it is a discrete distribution"
   ]
  },
  {
   "cell_type": "markdown",
   "id": "7a2b92de",
   "metadata": {},
   "source": [
    "-->describes outcome of binary senario "
   ]
  },
  {
   "cell_type": "markdown",
   "id": "0583bfad",
   "metadata": {},
   "source": [
    "it has three parameters\n"
   ]
  },
  {
   "cell_type": "markdown",
   "id": "0ddcff1d",
   "metadata": {},
   "source": [
    "n - number of trials\n",
    "\n",
    "p - probability of occurance of each trial\n",
    "\n",
    "size - the shape of the retuned array."
   ]
  },
  {
   "cell_type": "code",
   "execution_count": 60,
   "id": "6d7584a2",
   "metadata": {},
   "outputs": [
    {
     "name": "stdout",
     "output_type": "stream",
     "text": [
      "[4 6 5 4 6 6 3 5 3 3]\n"
     ]
    }
   ],
   "source": [
    "#give 10 trials for coin toss genearte 10 data points\n",
    "\n",
    "x = random.binomial(n=10, p=0.5, size=10)\n",
    "\n",
    "print(x)"
   ]
  },
  {
   "cell_type": "markdown",
   "id": "b5f03344",
   "metadata": {},
   "source": [
    "Visualization of binomial distribution"
   ]
  },
  {
   "cell_type": "code",
   "execution_count": 61,
   "id": "b227778a",
   "metadata": {},
   "outputs": [
    {
     "name": "stderr",
     "output_type": "stream",
     "text": [
      "C:\\Users\\lenovo\\Desktop\\python\\new_project\\env\\lib\\site-packages\\seaborn\\distributions.py:2619: FutureWarning: `distplot` is a deprecated function and will be removed in a future version. Please adapt your code to use either `displot` (a figure-level function with similar flexibility) or `histplot` (an axes-level function for histograms).\n",
      "  warnings.warn(msg, FutureWarning)\n"
     ]
    },
    {
     "data": {
      "image/png": "[encoded data removed]",
      "text/plain": [
       "<Figure size 432x288 with 1 Axes>"
      ]
     },
     "metadata": {
      "needs_background": "light"
     },
     "output_type": "display_data"
    }
   ],
   "source": [
    "sns.distplot(random.binomial(n=10, p=0.5, size=1000), hist=True,kde=False)\n",
    "\n",
    "plt.show()"
   ]
  },
  {
   "cell_type": "markdown",
   "id": "408ec290",
   "metadata": {},
   "source": [
    "Difference Between Normal and Binomial distribution"
   ]
  },
  {
   "cell_type": "markdown",
   "id": "0fdcf786",
   "metadata": {},
   "source": [
    "#the main difference is that Normal distribution is continuous and binomial is discrete , but if there are enough data points it will be preety similar to normal distribution"
   ]
  },
  {
   "cell_type": "code",
   "execution_count": 62,
   "id": "7df06cc8",
   "metadata": {},
   "outputs": [
    {
     "name": "stderr",
     "output_type": "stream",
     "text": [
      "C:\\Users\\lenovo\\Desktop\\python\\new_project\\env\\lib\\site-packages\\seaborn\\distributions.py:2619: FutureWarning: `distplot` is a deprecated function and will be removed in a future version. Please adapt your code to use either `displot` (a figure-level function with similar flexibility) or `kdeplot` (an axes-level function for kernel density plots).\n",
      "  warnings.warn(msg, FutureWarning)\n",
      "C:\\Users\\lenovo\\Desktop\\python\\new_project\\env\\lib\\site-packages\\seaborn\\distributions.py:2619: FutureWarning: `distplot` is a deprecated function and will be removed in a future version. Please adapt your code to use either `displot` (a figure-level function with similar flexibility) or `kdeplot` (an axes-level function for kernel density plots).\n",
      "  warnings.warn(msg, FutureWarning)\n"
     ]
    },
    {
     "data": {
      "image/png": "[encoded data removed]",
      "text/plain": [
       "<Figure size 432x288 with 1 Axes>"
      ]
     },
     "metadata": {
      "needs_background": "light"
     },
     "output_type": "display_data"
    }
   ],
   "source": [
    "sns.distplot(random.normal(loc=50, scale=5, size=1000), hist=False,\n",
    "            label=\"normal\")\n",
    "sns.distplot(random.binomial(n=100, p=0.5, size=1000),hist=False,\n",
    "            \n",
    "            label='binomial')\n",
    "plt.show()"
   ]
  },
  {
   "cell_type": "markdown",
   "id": "ad192a96",
   "metadata": {},
   "source": [
    "### poisson distribution"
   ]
  },
  {
   "cell_type": "markdown",
   "id": "bd36f684",
   "metadata": {},
   "source": [
    "--> it is a discrete distribution\n"
   ]
  },
  {
   "cell_type": "markdown",
   "id": "65f6fd3a",
   "metadata": {},
   "source": [
    "-->it estimates how many times an event can happen in a specified time."
   ]
  },
  {
   "cell_type": "markdown",
   "id": "8e8e71db",
   "metadata": {},
   "source": [
    "-->it has two paramteres:\n",
    "    \n",
    "    lam - rate or known number of occurances.\n",
    "    \n",
    "    size- The shape of the returned array."
   ]
  },
  {
   "cell_type": "code",
   "execution_count": 63,
   "id": "19d14fbe",
   "metadata": {},
   "outputs": [
    {
     "name": "stdout",
     "output_type": "stream",
     "text": [
      "[3 1 1 0 3 3 3 0 2 4]\n"
     ]
    }
   ],
   "source": [
    "#generate a random  1x10 distribution for occurance 2\n",
    "\n",
    "x = random.poisson(lam=2, size=10)\n",
    "print(x)\n"
   ]
  },
  {
   "cell_type": "markdown",
   "id": "ac2cdf66",
   "metadata": {},
   "source": [
    "Visualization of Poisson Distribution"
   ]
  },
  {
   "cell_type": "code",
   "execution_count": 64,
   "id": "3d287d95",
   "metadata": {},
   "outputs": [
    {
     "name": "stderr",
     "output_type": "stream",
     "text": [
      "C:\\Users\\lenovo\\Desktop\\python\\new_project\\env\\lib\\site-packages\\seaborn\\distributions.py:2619: FutureWarning: `distplot` is a deprecated function and will be removed in a future version. Please adapt your code to use either `displot` (a figure-level function with similar flexibility) or `histplot` (an axes-level function for histograms).\n",
      "  warnings.warn(msg, FutureWarning)\n"
     ]
    },
    {
     "data": {
      "image/png": "[encoded data removed]",
      "text/plain": [
       "<Figure size 432x288 with 1 Axes>"
      ]
     },
     "metadata": {
      "needs_background": "light"
     },
     "output_type": "display_data"
    }
   ],
   "source": [
    "sns.distplot(random.poisson(lam=2, size=1000),kde=False)\n",
    "\n",
    "plt.show()"
   ]
  },
  {
   "cell_type": "markdown",
   "id": "bb626f70",
   "metadata": {},
   "source": [
    "Difference between Normal and Poisson Distribution"
   ]
  },
  {
   "cell_type": "code",
   "execution_count": 65,
   "id": "996e3ac9",
   "metadata": {},
   "outputs": [
    {
     "name": "stderr",
     "output_type": "stream",
     "text": [
      "C:\\Users\\lenovo\\Desktop\\python\\new_project\\env\\lib\\site-packages\\seaborn\\distributions.py:2619: FutureWarning: `distplot` is a deprecated function and will be removed in a future version. Please adapt your code to use either `displot` (a figure-level function with similar flexibility) or `kdeplot` (an axes-level function for kernel density plots).\n",
      "  warnings.warn(msg, FutureWarning)\n",
      "C:\\Users\\lenovo\\Desktop\\python\\new_project\\env\\lib\\site-packages\\seaborn\\distributions.py:2619: FutureWarning: `distplot` is a deprecated function and will be removed in a future version. Please adapt your code to use either `displot` (a figure-level function with similar flexibility) or `kdeplot` (an axes-level function for kernel density plots).\n",
      "  warnings.warn(msg, FutureWarning)\n"
     ]
    },
    {
     "data": {
      "image/png": "[encoded data removed]",
      "text/plain": [
       "<Figure size 432x288 with 1 Axes>"
      ]
     },
     "metadata": {
      "needs_background": "light"
     },
     "output_type": "display_data"
    }
   ],
   "source": [
    "sns.distplot(random.normal(loc=50, scale=7, size=1000), hist=False)\n",
    "sns.distplot(random.poisson(lam=50, size=1000), hist=False)\n",
    "\n",
    "\n",
    "plt.show() "
   ]
  },
  {
   "cell_type": "markdown",
   "id": "fff7f1d6",
   "metadata": {},
   "source": [
    "Difference between Poisson and Binomial distribution"
   ]
  },
  {
   "cell_type": "markdown",
   "id": "85e863c4",
   "metadata": {},
   "source": [
    "The difference is very subtle it is that, binomial distribution is for discrete trials, whereas poisson distribution is for continuous trials."
   ]
  },
  {
   "cell_type": "markdown",
   "id": "4cbed751",
   "metadata": {},
   "source": [
    "n*p is nearly equal to lam"
   ]
  },
  {
   "cell_type": "code",
   "execution_count": 66,
   "id": "88b2bee3",
   "metadata": {},
   "outputs": [
    {
     "name": "stderr",
     "output_type": "stream",
     "text": [
      "C:\\Users\\lenovo\\Desktop\\python\\new_project\\env\\lib\\site-packages\\seaborn\\distributions.py:2619: FutureWarning: `distplot` is a deprecated function and will be removed in a future version. Please adapt your code to use either `displot` (a figure-level function with similar flexibility) or `kdeplot` (an axes-level function for kernel density plots).\n",
      "  warnings.warn(msg, FutureWarning)\n",
      "C:\\Users\\lenovo\\Desktop\\python\\new_project\\env\\lib\\site-packages\\seaborn\\distributions.py:2619: FutureWarning: `distplot` is a deprecated function and will be removed in a future version. Please adapt your code to use either `displot` (a figure-level function with similar flexibility) or `kdeplot` (an axes-level function for kernel density plots).\n",
      "  warnings.warn(msg, FutureWarning)\n"
     ]
    },
    {
     "data": {
      "image/png": "[encoded data removed]",
      "text/plain": [
       "<Figure size 432x288 with 1 Axes>"
      ]
     },
     "metadata": {
      "needs_background": "light"
     },
     "output_type": "display_data"
    }
   ],
   "source": [
    "sns.distplot(random.binomial(n=1000, p=0.01, size=1000), hist=False, label='binomial')\n",
    "sns.distplot(random.poisson(lam=10, size=1000), hist=False, label='poisson')\n",
    "\n",
    "plt.show()"
   ]
  },
  {
   "cell_type": "markdown",
   "id": "1f18bd1f",
   "metadata": {},
   "source": [
    "### Uniform Distribution"
   ]
  },
  {
   "cell_type": "markdown",
   "id": "8e1dba02",
   "metadata": {},
   "source": [
    "Used to describe probability where every event has equal chances of occuring."
   ]
  },
  {
   "cell_type": "markdown",
   "id": "cc154bb2",
   "metadata": {},
   "source": [
    "it has three parameteres:\n",
    "\n",
    "    a - lower bound -default 0.0.\n",
    "    b - upper bound - default 1.0.\n",
    "    size - the shape of the returned array\n",
    "    "
   ]
  },
  {
   "cell_type": "code",
   "execution_count": 67,
   "id": "39885517",
   "metadata": {},
   "outputs": [
    {
     "name": "stdout",
     "output_type": "stream",
     "text": [
      "[[0.0561136  0.23585373 0.21071725]\n",
      " [0.70497163 0.6795183  0.62212087]]\n"
     ]
    }
   ],
   "source": [
    "#create a 2x3 uniform distribution sample\n",
    "\n",
    "x = random.uniform(size=(2,3))\n",
    "\n",
    "print(x)"
   ]
  },
  {
   "cell_type": "markdown",
   "id": "4e12695d",
   "metadata": {},
   "source": [
    "Visualizatiion of Uniform Distribution\n"
   ]
  },
  {
   "cell_type": "code",
   "execution_count": 68,
   "id": "477fd967",
   "metadata": {},
   "outputs": [
    {
     "name": "stderr",
     "output_type": "stream",
     "text": [
      "C:\\Users\\lenovo\\Desktop\\python\\new_project\\env\\lib\\site-packages\\seaborn\\distributions.py:2619: FutureWarning: `distplot` is a deprecated function and will be removed in a future version. Please adapt your code to use either `displot` (a figure-level function with similar flexibility) or `kdeplot` (an axes-level function for kernel density plots).\n",
      "  warnings.warn(msg, FutureWarning)\n"
     ]
    },
    {
     "data": {
      "image/png": "[encoded data removed]",
      "text/plain": [
       "<Figure size 432x288 with 1 Axes>"
      ]
     },
     "metadata": {
      "needs_background": "light"
     },
     "output_type": "display_data"
    }
   ],
   "source": [
    "sns.distplot(random.uniform(size=1000),hist=False)\n",
    "\n",
    "plt.show()"
   ]
  },
  {
   "cell_type": "markdown",
   "id": "29fe04b9",
   "metadata": {},
   "source": [
    "### Logistic Distribution"
   ]
  },
  {
   "cell_type": "markdown",
   "id": "b7b59256",
   "metadata": {},
   "source": [
    "-->it is used to describe growth.\n",
    "\n",
    "-->Used extensively in machine learning in logistic regression,    neural networks etc.\n",
    "\n",
    "it has three parameters\n",
    "loc , scale, size"
   ]
  },
  {
   "cell_type": "code",
   "execution_count": 69,
   "id": "d49bd723",
   "metadata": {},
   "outputs": [
    {
     "name": "stdout",
     "output_type": "stream",
     "text": [
      "[[1.36437748 6.14462625 3.55952577]\n",
      " [2.0196902  2.35866779 1.9153322 ]]\n"
     ]
    }
   ],
   "source": [
    "#draw 2x3 samples from a logistic distribution with mean at 1 and stddev 2.0\n",
    "\n",
    "x = random.logistic(loc=1, scale=2, size=(2,3))\n",
    "\n",
    "print(x)"
   ]
  },
  {
   "cell_type": "markdown",
   "id": "e73ac375",
   "metadata": {},
   "source": [
    "Visualization of logistic Distribution"
   ]
  },
  {
   "cell_type": "code",
   "execution_count": 70,
   "id": "1dcc9fd3",
   "metadata": {},
   "outputs": [
    {
     "name": "stderr",
     "output_type": "stream",
     "text": [
      "C:\\Users\\lenovo\\Desktop\\python\\new_project\\env\\lib\\site-packages\\seaborn\\distributions.py:2619: FutureWarning: `distplot` is a deprecated function and will be removed in a future version. Please adapt your code to use either `displot` (a figure-level function with similar flexibility) or `kdeplot` (an axes-level function for kernel density plots).\n",
      "  warnings.warn(msg, FutureWarning)\n"
     ]
    },
    {
     "data": {
      "image/png": "[encoded data removed]",
      "text/plain": [
       "<Figure size 432x288 with 1 Axes>"
      ]
     },
     "metadata": {
      "needs_background": "light"
     },
     "output_type": "display_data"
    }
   ],
   "source": [
    "\n",
    "sns.distplot(random.logistic(size=1000), hist= False)\n",
    "\n",
    "plt.show()"
   ]
  },
  {
   "cell_type": "markdown",
   "id": "7e55e064",
   "metadata": {},
   "source": [
    "Difference Between Logistic and Normal Distribution"
   ]
  },
  {
   "cell_type": "markdown",
   "id": "7f81b074",
   "metadata": {},
   "source": [
    "both distributions are near identical , but logistic distribution has more area under the tails, i.e. it represents more posibility of occurence of an events further away from mean"
   ]
  },
  {
   "cell_type": "markdown",
   "id": "444a9f61",
   "metadata": {},
   "source": [
    "for higher value of scale the normal and logistic distributions are near apart from the peak."
   ]
  },
  {
   "cell_type": "code",
   "execution_count": 71,
   "id": "956b4558",
   "metadata": {},
   "outputs": [
    {
     "name": "stderr",
     "output_type": "stream",
     "text": [
      "C:\\Users\\lenovo\\Desktop\\python\\new_project\\env\\lib\\site-packages\\seaborn\\distributions.py:2619: FutureWarning: `distplot` is a deprecated function and will be removed in a future version. Please adapt your code to use either `displot` (a figure-level function with similar flexibility) or `kdeplot` (an axes-level function for kernel density plots).\n",
      "  warnings.warn(msg, FutureWarning)\n",
      "C:\\Users\\lenovo\\Desktop\\python\\new_project\\env\\lib\\site-packages\\seaborn\\distributions.py:2619: FutureWarning: `distplot` is a deprecated function and will be removed in a future version. Please adapt your code to use either `displot` (a figure-level function with similar flexibility) or `kdeplot` (an axes-level function for kernel density plots).\n",
      "  warnings.warn(msg, FutureWarning)\n"
     ]
    },
    {
     "data": {
      "image/png": "[encoded data removed]",
      "text/plain": [
       "<Figure size 432x288 with 1 Axes>"
      ]
     },
     "metadata": {
      "needs_background": "light"
     },
     "output_type": "display_data"
    }
   ],
   "source": [
    "\n",
    "sns.distplot(random.normal(scale=2, size=1000),hist=False, label='normal')\n",
    "sns.distplot(random.logistic(size=1000),hist=False, label='logistic')\n",
    "plt.show()"
   ]
  },
  {
   "cell_type": "markdown",
   "id": "fdea685c",
   "metadata": {},
   "source": [
    "### Multinomial Distribution \n"
   ]
  },
  {
   "cell_type": "markdown",
   "id": "26d03fb4",
   "metadata": {},
   "source": [
    "--> it is a generalization of binomial distribution.\n",
    "\n",
    "-->it describes outcomes of multi-nomial senarios unlike binomial where scenarios must be only one of two\n",
    "   e.g. blood type of population , dice roll outcome.\n",
    "    \n",
    "-->it has three parameters:\n",
    "    \n",
    "    n -number of possible outcomes(e.g 6 for dice roll)\n",
    "    \n",
    "    pvals - list of probabilities of outcomes(e.g.[1/6,1/6,1/6,1/6,1/6,1/6]for dice roll)\n",
    "    \n",
    "    size - shape of array\n"
   ]
  },
  {
   "cell_type": "markdown",
   "id": "205e1c51",
   "metadata": {},
   "source": [
    "#### Note: Multinomial samples will NOT produce a single value! They will produce one value for each pval."
   ]
  },
  {
   "cell_type": "code",
   "execution_count": 72,
   "id": "4d91ed17",
   "metadata": {},
   "outputs": [
    {
     "name": "stdout",
     "output_type": "stream",
     "text": [
      "[1 2 2 1 0 0]\n"
     ]
    }
   ],
   "source": [
    "x = random.multinomial(n=6, pvals=[1/6,1/6,1/6,1/6,1/6,1/6])\n",
    "print(x)"
   ]
  },
  {
   "cell_type": "markdown",
   "id": "e796981c",
   "metadata": {},
   "source": [
    "Note: As they are generalization of binomial distribution their visual representation and similarity of normal distribution is same as that of multiple binomial distributions."
   ]
  },
  {
   "cell_type": "markdown",
   "id": "8e7cd7f7",
   "metadata": {},
   "source": [
    "....."
   ]
  },
  {
   "cell_type": "markdown",
   "id": "c28472bd",
   "metadata": {},
   "source": [
    "### Exponential Distribution"
   ]
  },
  {
   "cell_type": "markdown",
   "id": "b30d4351",
   "metadata": {},
   "source": [
    "It is used for describing time of the next event e.g. failure/success etc. "
   ]
  },
  {
   "cell_type": "markdown",
   "id": "83b18f19",
   "metadata": {},
   "source": [
    "It has two parameters:\n",
    "    \n",
    "    scale - inverse of rate()defaults to 1.0.\n",
    "    \n",
    "    size- shape of array"
   ]
  },
  {
   "cell_type": "code",
   "execution_count": 73,
   "id": "f2ca8d5d",
   "metadata": {},
   "outputs": [
    {
     "name": "stdout",
     "output_type": "stream",
     "text": [
      "[[3.59529941 0.71860035 0.3106002 ]\n",
      " [6.02826173 0.91160844 0.10865375]]\n"
     ]
    }
   ],
   "source": [
    "#draw out sample for exponential with 2.0 scale with 2x3 size:\n",
    "x = random.exponential(scale=2, size=(2,3))\n",
    "\n",
    "print(x)"
   ]
  },
  {
   "cell_type": "markdown",
   "id": "562c6ba8",
   "metadata": {},
   "source": [
    "Visualization of Exponential Distribution"
   ]
  },
  {
   "cell_type": "code",
   "execution_count": 74,
   "id": "08bbd855",
   "metadata": {},
   "outputs": [
    {
     "name": "stderr",
     "output_type": "stream",
     "text": [
      "C:\\Users\\lenovo\\Desktop\\python\\new_project\\env\\lib\\site-packages\\seaborn\\distributions.py:2619: FutureWarning: `distplot` is a deprecated function and will be removed in a future version. Please adapt your code to use either `displot` (a figure-level function with similar flexibility) or `kdeplot` (an axes-level function for kernel density plots).\n",
      "  warnings.warn(msg, FutureWarning)\n"
     ]
    },
    {
     "data": {
      "image/png": "[encoded data removed]",
      "text/plain": [
       "<Figure size 432x288 with 1 Axes>"
      ]
     },
     "metadata": {
      "needs_background": "light"
     },
     "output_type": "display_data"
    }
   ],
   "source": [
    "sns.distplot(random.exponential(size=1000),hist=False)\n",
    "\n",
    "plt.show()"
   ]
  },
  {
   "cell_type": "markdown",
   "id": "704a0a56",
   "metadata": {},
   "source": [
    "Realtion between Poisson amd Exponential distribution.\n"
   ]
  },
  {
   "cell_type": "markdown",
   "id": "8cdd8827",
   "metadata": {},
   "source": [
    "Poisson distribution deals with number of occurences of an event in a time period whereas exponential distribution deals with the time between these events. "
   ]
  },
  {
   "cell_type": "markdown",
   "id": "60105482",
   "metadata": {},
   "source": [
    "### Chi Square Distribution"
   ]
  },
  {
   "cell_type": "markdown",
   "id": "4f7d8328",
   "metadata": {},
   "source": [
    "it is used as a basis to verify the hypothesis.\n",
    "\n",
    "it has two parameters:\n",
    "    \n",
    "    df -(degree of freeedom).\n",
    "    \n",
    "    size"
   ]
  },
  {
   "cell_type": "code",
   "execution_count": 75,
   "id": "57759064",
   "metadata": {},
   "outputs": [
    {
     "name": "stdout",
     "output_type": "stream",
     "text": [
      "[[1.39787544 1.93577718 0.38272111]\n",
      " [7.5740899  2.62419958 3.31195123]]\n"
     ]
    }
   ],
   "source": [
    "#draw a sample with degree of freedom 2 with size 2x3\n",
    "\n",
    "x= random.chisquare(df=2, size=(2,3))\n",
    "\n",
    "print(x)"
   ]
  },
  {
   "cell_type": "markdown",
   "id": "a6807481",
   "metadata": {},
   "source": [
    "Visualization of Chi Square Distribution"
   ]
  },
  {
   "cell_type": "code",
   "execution_count": 76,
   "id": "e66c92f7",
   "metadata": {},
   "outputs": [
    {
     "name": "stderr",
     "output_type": "stream",
     "text": [
      "C:\\Users\\lenovo\\Desktop\\python\\new_project\\env\\lib\\site-packages\\seaborn\\distributions.py:2619: FutureWarning: `distplot` is a deprecated function and will be removed in a future version. Please adapt your code to use either `displot` (a figure-level function with similar flexibility) or `kdeplot` (an axes-level function for kernel density plots).\n",
      "  warnings.warn(msg, FutureWarning)\n"
     ]
    },
    {
     "data": {
      "image/png": "[encoded data removed]",
      "text/plain": [
       "<Figure size 432x288 with 1 Axes>"
      ]
     },
     "metadata": {
      "needs_background": "light"
     },
     "output_type": "display_data"
    }
   ],
   "source": [
    "sns.distplot(random.chisquare(df=1, size=1000),hist=False)\n",
    "\n",
    "plt.show()"
   ]
  },
  {
   "cell_type": "markdown",
   "id": "d8e50189",
   "metadata": {},
   "source": [
    "### Rayleigh Distribution"
   ]
  },
  {
   "cell_type": "markdown",
   "id": "8209ef23",
   "metadata": {},
   "source": [
    "It is used in signal processing.\n",
    "\n",
    "It has 2 parameters:\n",
    "    \n",
    "    scale-(standard deviation)decides how flat the distribution will be ,default 1.0.\n",
    "    \n",
    "    size"
   ]
  },
  {
   "cell_type": "code",
   "execution_count": 77,
   "id": "288723f3",
   "metadata": {},
   "outputs": [
    {
     "name": "stdout",
     "output_type": "stream",
     "text": [
      "[[3.22901509 3.2232215  2.77667645]\n",
      " [6.08689476 1.59096358 2.20958299]]\n"
     ]
    }
   ],
   "source": [
    "#scale of 2 with size 2x3.\n",
    "\n",
    "x= random.rayleigh(scale=2,size=(2,3))\n",
    "\n",
    "print(x)"
   ]
  },
  {
   "cell_type": "markdown",
   "id": "516e4067",
   "metadata": {},
   "source": [
    "Visualization of Rayleigh Distribution."
   ]
  },
  {
   "cell_type": "code",
   "execution_count": 78,
   "id": "249aa1ed",
   "metadata": {},
   "outputs": [
    {
     "name": "stderr",
     "output_type": "stream",
     "text": [
      "C:\\Users\\lenovo\\Desktop\\python\\new_project\\env\\lib\\site-packages\\seaborn\\distributions.py:2619: FutureWarning: `distplot` is a deprecated function and will be removed in a future version. Please adapt your code to use either `displot` (a figure-level function with similar flexibility) or `kdeplot` (an axes-level function for kernel density plots).\n",
      "  warnings.warn(msg, FutureWarning)\n"
     ]
    },
    {
     "data": {
      "image/png": "[encoded data removed]",
      "text/plain": [
       "<Figure size 432x288 with 1 Axes>"
      ]
     },
     "metadata": {
      "needs_background": "light"
     },
     "output_type": "display_data"
    }
   ],
   "source": [
    "sns.distplot(random.rayleigh(size=1000),hist=False)\n",
    "\n",
    "plt.show()"
   ]
  },
  {
   "cell_type": "markdown",
   "id": "895b9169",
   "metadata": {},
   "source": [
    "### Pareto Distribution"
   ]
  },
  {
   "cell_type": "markdown",
   "id": "2e7e785f",
   "metadata": {},
   "source": [
    "A distribution following pareto's law i.e.80-20 distribution (20%factors cause 80% outcome)\n",
    "\n",
    "two parameters:\n",
    "    \n",
    "    a-shape parameter.\n",
    "    \n",
    "    size\n"
   ]
  },
  {
   "cell_type": "code",
   "execution_count": 79,
   "id": "006bf0b9",
   "metadata": {},
   "outputs": [
    {
     "name": "stdout",
     "output_type": "stream",
     "text": [
      "[[1.36036374 0.08715104 2.07851528]\n",
      " [0.0435001  0.16553867 0.01379102]]\n"
     ]
    }
   ],
   "source": [
    "\n",
    "x= random.pareto(a=2, size=(2,3))\n",
    "\n",
    "print(x)"
   ]
  },
  {
   "cell_type": "markdown",
   "id": "ca9dc5a3",
   "metadata": {},
   "source": [
    "Visualization of Pareto Distribution"
   ]
  },
  {
   "cell_type": "code",
   "execution_count": 80,
   "id": "8d386c96",
   "metadata": {
    "scrolled": true
   },
   "outputs": [
    {
     "name": "stderr",
     "output_type": "stream",
     "text": [
      "C:\\Users\\lenovo\\Desktop\\python\\new_project\\env\\lib\\site-packages\\seaborn\\distributions.py:2619: FutureWarning: `distplot` is a deprecated function and will be removed in a future version. Please adapt your code to use either `displot` (a figure-level function with similar flexibility) or `histplot` (an axes-level function for histograms).\n",
      "  warnings.warn(msg, FutureWarning)\n"
     ]
    },
    {
     "data": {
      "image/png": "[encoded data removed]",
      "text/plain": [
       "<Figure size 432x288 with 1 Axes>"
      ]
     },
     "metadata": {
      "needs_background": "light"
     },
     "output_type": "display_data"
    }
   ],
   "source": [
    "sns.distplot(random.pareto(a=2, size=1000), kde=False)\n",
    "\n",
    "plt.show()"
   ]
  },
  {
   "cell_type": "markdown",
   "id": "959ca11f",
   "metadata": {},
   "source": [
    "### Zipf Distribution"
   ]
  },
  {
   "cell_type": "markdown",
   "id": "df3deaa3",
   "metadata": {},
   "source": [
    "Zipf's Law: In a collection the nth common term is 1/n times of the most common term. E.g. 5th common word in english has occurs nearly 1/5th times as of the most used word."
   ]
  },
  {
   "cell_type": "markdown",
   "id": "8f48ecaf",
   "metadata": {},
   "source": [
    "this are used to sample data  based on zipf's law\n",
    "\n",
    "two parameters:\n",
    "   \n",
    "   a-distribution parameter\n",
    "   \n",
    "   size"
   ]
  },
  {
   "cell_type": "code",
   "execution_count": 81,
   "id": "00bd2e28",
   "metadata": {},
   "outputs": [
    {
     "name": "stdout",
     "output_type": "stream",
     "text": [
      "[[1 9 1]\n",
      " [1 4 1]]\n"
     ]
    }
   ],
   "source": [
    "x = random.zipf(a=2, size=(2,3))\n",
    "\n",
    "print(x)"
   ]
  },
  {
   "cell_type": "markdown",
   "id": "df602eff",
   "metadata": {},
   "source": [
    "Visualization of Zipf Distribution"
   ]
  },
  {
   "cell_type": "code",
   "execution_count": 82,
   "id": "4f1c8dbb",
   "metadata": {},
   "outputs": [
    {
     "data": {
      "image/png": "[encoded data removed]",
      "text/plain": [
       "<Figure size 432x288 with 1 Axes>"
      ]
     },
     "metadata": {
      "needs_background": "light"
     },
     "output_type": "display_data"
    }
   ],
   "source": [
    "#Sample 1000 points but plotting only ones with value < 10 for more meaningful chart.\n",
    "\n",
    "x = random.zipf(a=2,size=1000)\n",
    "sns.distplot(x[x<10],kde=False)\n",
    "\n",
    "\n",
    "plt.show()"
   ]
  },
  {
   "cell_type": "markdown",
   "id": "d82ce7c0",
   "metadata": {},
   "source": [
    "....."
   ]
  },
  {
   "cell_type": "markdown",
   "id": "a3dab283",
   "metadata": {},
   "source": [
    "# Numpy ufuncs"
   ]
  },
  {
   "cell_type": "markdown",
   "id": "e22c58b2",
   "metadata": {},
   "source": [
    "-ufuncs stands for 'Universal functions',\n",
    "\n",
    "-they are numpy fun that operates on the ndarray object"
   ]
  },
  {
   "cell_type": "markdown",
   "id": "4aea58ea",
   "metadata": {},
   "source": [
    "##### why use ufuncs?\n",
    "-> ufuncs are used to implement vectorization in NumPy, which is way faster than iterating over elemnts.\n",
    "\n",
    "-> They also provide broadcasting,reduce ,accumulate ,etc methods that are very helpful for computataion.\n",
    "\n",
    " ufuncs also take additional arguments ,like:\n",
    "       \n",
    "       where - boolean array or condition defining where the operations should take place.\n",
    "       dtype - defining the return type of element.\n",
    "       out - output array where the return value should be copied.\n",
    "       \n",
    "  \n"
   ]
  },
  {
   "cell_type": "markdown",
   "id": "29843d77",
   "metadata": {},
   "source": [
    "#### What is vectorization?\n",
    " converating iterative statement into a vector based operation is called vectorization.\n",
    " \n",
    " it is faster as modern CPUs"
   ]
  },
  {
   "cell_type": "code",
   "execution_count": 83,
   "id": "b22a2bf5",
   "metadata": {},
   "outputs": [
    {
     "name": "stdout",
     "output_type": "stream",
     "text": [
      "[5, 7, 9, 11]\n"
     ]
    }
   ],
   "source": [
    "#add element of two list\n",
    "#without ufunc , we can use python built-in zip() method\n",
    "\n",
    "x = [1,2,3,4]\n",
    "y = [4,5,6,7]\n",
    "z = []\n",
    "\n",
    "for i, j in zip(x,y):\n",
    "    z.append(i+j)\n",
    "print(z)\n"
   ]
  },
  {
   "cell_type": "code",
   "execution_count": 84,
   "id": "21ad9a21",
   "metadata": {},
   "outputs": [
    {
     "name": "stdout",
     "output_type": "stream",
     "text": [
      "[ 5  7  9 11]\n"
     ]
    }
   ],
   "source": [
    "#with ufunc, we use add() function\n",
    "\n",
    "x = [1,2,3,4]\n",
    "y = [4,5,6,7]\n",
    "z = np.add(x,y)\n",
    "\n",
    "print(z)\n"
   ]
  },
  {
   "cell_type": "markdown",
   "id": "34c8c98d",
   "metadata": {},
   "source": [
    "### Create our Own ufunc "
   ]
  },
  {
   "cell_type": "markdown",
   "id": "e62a79a6",
   "metadata": {},
   "source": [
    "How to create your Own ufunc ?\n",
    "\n",
    "To create you own ufunc, \n",
    "\n",
    "1.define a function --> 2.add it to your NumPy ufunc library\n",
    "-->with the fromppyfunc() method.\n",
    "\n",
    "The frompyfunc() method takes following argumnets:\n",
    "      \n",
    "      1.function - the name of the function.\n",
    "      2.inputs - the number of input arguments(arrays).\n",
    "      3.outputs - the number of output arrays."
   ]
  },
  {
   "cell_type": "code",
   "execution_count": 85,
   "id": "9f137747",
   "metadata": {},
   "outputs": [
    {
     "name": "stdout",
     "output_type": "stream",
     "text": [
      "[6 8 10 12]\n"
     ]
    }
   ],
   "source": [
    "#Create your own ufunc for addition\n",
    "\n",
    "def myadd(x,y):\n",
    "    return x+y\n",
    "\n",
    "myadd = np.frompyfunc(myadd,2,1)\n",
    "\n",
    "print(myadd([1,2,3,4],[5,6,7,8]))"
   ]
  },
  {
   "cell_type": "markdown",
   "id": "77e2ee42",
   "metadata": {},
   "source": [
    "       Check if a Function is a ufunc..\n",
    "       \n",
    "       ->check the type of a function.\n",
    "       ->A ufunc should return <class 'numpy.ufunc'>.\n",
    "\n"
   ]
  },
  {
   "cell_type": "code",
   "execution_count": 89,
   "id": "0155c72f",
   "metadata": {},
   "outputs": [
    {
     "name": "stdout",
     "output_type": "stream",
     "text": [
      "<class 'numpy.ufunc'>\n",
      "<class 'function'>\n"
     ]
    }
   ],
   "source": [
    "#check if  a func is ufunc\n",
    "print(type(np.add))\n",
    "print(type(np.concatenate))"
   ]
  },
  {
   "cell_type": "code",
   "execution_count": 90,
   "id": "b94a609f",
   "metadata": {},
   "outputs": [
    {
     "name": "stdout",
     "output_type": "stream",
     "text": [
      "add is ufunc\n"
     ]
    }
   ],
   "source": [
    "#use if statement to check the function is ufunc or not\n",
    "if type(np.add) == np.ufunc:\n",
    "  print('add is ufunc')\n",
    "else:\n",
    "  print('add is not ufunc') "
   ]
  },
  {
   "cell_type": "markdown",
   "id": "e84e0c0a",
   "metadata": {},
   "source": [
    "### Simple Arithmatic"
   ]
  },
  {
   "cell_type": "markdown",
   "id": "d868520f",
   "metadata": {},
   "source": [
    "we have functions that can take any array-like objects e.g. lists, tuples etc. and perform arithmetic conditionally.\n",
    "\n"
   ]
  },
  {
   "cell_type": "markdown",
   "id": "3d2c55e5",
   "metadata": {},
   "source": [
    "Arithmatic Conditionally :- meaans that we can define conditions where the arithmatic operation should happen\n",
    "         "
   ]
  },
  {
   "cell_type": "code",
   "execution_count": 91,
   "id": "63ec4ba0",
   "metadata": {},
   "outputs": [
    {
     "name": "stdout",
     "output_type": "stream",
     "text": [
      "[30 32 34 36 38 40]\n"
     ]
    }
   ],
   "source": [
    "#the add() function sums the content of two arrays , \n",
    "#and return the results in a new array.\n",
    "#Add the values in arr1 to the values in arr2\n",
    "arr1 = np.array([10,11,12,13,14,15])\n",
    "arr2 = np.array([20,21,22,23,24,25])\n",
    "\n",
    "newarr = np.add(arr1,arr2)\n",
    "\n",
    "print(newarr)"
   ]
  },
  {
   "cell_type": "code",
   "execution_count": 93,
   "id": "ff2498cc",
   "metadata": {},
   "outputs": [
    {
     "name": "stdout",
     "output_type": "stream",
     "text": [
      "[-10 -10 -10 -10 -10 -10]\n"
     ]
    }
   ],
   "source": [
    "#the subtract() function substract the content of two arrays,\n",
    "#and return the result in a new array.\n",
    "#substract the values \n",
    "arr1 = np.array([10,11,12,13,14,15])\n",
    "arr2 = np.array([20,21,22,23,24,25])\n",
    "\n",
    "newarr = np.subtract(arr1,arr2)\n",
    "\n",
    "print(newarr)"
   ]
  },
  {
   "cell_type": "code",
   "execution_count": null,
   "id": "b3a69866",
   "metadata": {},
   "outputs": [],
   "source": []
  }
 ],
 "metadata": {
  "kernelspec": {
   "display_name": "Python 3 (ipykernel)",
   "language": "python",
   "name": "python3"
  },
  "language_info": {
   "codemirror_mode": {
    "name": "ipython",
    "version": 3
   },
   "file_extension": ".py",
   "mimetype": "text/x-python",
   "name": "python",
   "nbconvert_exporter": "python",
   "pygments_lexer": "ipython3",
   "version": "3.9.7"
  }
 },
 "nbformat": 4,
 "nbformat_minor": 5
}
