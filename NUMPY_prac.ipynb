{
 "cells": [
  {
   "cell_type": "markdown",
   "id": "5f2883ec",
   "metadata": {},
   "source": [
    "# Numpy study\n",
    "25-03-22"
   ]
  },
  {
   "cell_type": "raw",
   "id": "715f5a86",
   "metadata": {},
   "source": [
    "what is numpy?\n",
    "\n",
    "->python libraray for working with arrays\n",
    "->it has functions for working with domain of linear \n",
    "alzebera,fourier transformation,& matrices\n",
    "->created in 2005 by Travis Oliphant\n",
    "->stands for numerical python ; open source free to use\n"
   ]
  },
  {
   "cell_type": "raw",
   "id": "cf9b6f97",
   "metadata": {},
   "source": [
    "why use NumPy?\n",
    "->it aims to provide an array object that is upto 50x faster\n",
    " than traditional python list\n",
    "->array object in NumPy called as \"ndarray\", it provides \n",
    "lots of supporting function to work at easy\n",
    "->frequently used in data science"
   ]
  },
  {
   "cell_type": "markdown",
   "id": "53336420",
   "metadata": {},
   "source": [
    "DATA SCIENCE -> is a branch of computer science ,where we \n",
    "study how to store , use and analyze data for deriving\n",
    "information from it"
   ]
  },
  {
   "cell_type": "markdown",
   "id": "01863610",
   "metadata": {},
   "source": [
    "why NumPy is faster than lists?\n",
    "\n",
    "->simply by performance. NumPy data structures perform better in size ;\n",
    "NumPy data structures take up less space.their speed is faster than lists\n",
    "\n",
    "->we can write in c or c++ for more faster computataion"
   ]
  },
  {
   "cell_type": "code",
   "execution_count": 41,
   "id": "1c3a8063",
   "metadata": {},
   "outputs": [
    {
     "name": "stdout",
     "output_type": "stream",
     "text": [
      "[1 2 3 4 5]\n",
      "<class 'numpy.ndarray'>\n",
      "1\n",
      "1.21.5\n"
     ]
    }
   ],
   "source": [
    "#to create a numpy array by lsit \n",
    "arr = np.array([1,2,3,4,5])\n",
    "#arr is an ndarray object & we can create ndarray object using array()func\n",
    "print(arr)\n",
    "print(type(arr))\n",
    "print(arr.ndim)\n",
    "print(np.__version__)"
   ]
  },
  {
   "cell_type": "code",
   "execution_count": 42,
   "id": "6f400cdb",
   "metadata": {},
   "outputs": [
    {
     "name": "stdout",
     "output_type": "stream",
     "text": [
      "[1 2 3 4 4]\n",
      "<class 'numpy.ndarray'>\n"
     ]
    }
   ],
   "source": [
    "#use a tuple to craete a numpy array\n",
    "arr2 = np.array((1,2,3,4,4))\n",
    "print(arr2)\n",
    "print(type(arr2))"
   ]
  },
  {
   "cell_type": "code",
   "execution_count": 47,
   "id": "1bd48bae",
   "metadata": {},
   "outputs": [
    {
     "name": "stdout",
     "output_type": "stream",
     "text": [
      "0-d array 42\n"
     ]
    }
   ],
   "source": [
    "#0-D array\n",
    "arr = np.array(42)\n",
    "print(\"0-d array\",arr)"
   ]
  },
  {
   "cell_type": "code",
   "execution_count": 46,
   "id": "3a08ef84",
   "metadata": {},
   "outputs": [
    {
     "name": "stdout",
     "output_type": "stream",
     "text": [
      "uni-dimentinal or 1-d arrays [1 2 3 4]\n"
     ]
    }
   ],
   "source": [
    "#1-d or uni-dimentional array\n",
    "arr =np.array([1,2,3,4])\n",
    "print(\"uni-dimentinal or 1-d arrays\",arr)"
   ]
  },
  {
   "cell_type": "code",
   "execution_count": 45,
   "id": "5b98389d",
   "metadata": {},
   "outputs": [
    {
     "name": "stdout",
     "output_type": "stream",
     "text": [
      "2-d array [[1 2 3 4]\n",
      " [7 6 9 3]]\n",
      "2\n"
     ]
    }
   ],
   "source": [
    "#2-d arrays\n",
    "arr = np.array([[1,2,3,4], [7,6,9,3]])\n",
    "print(\"2-d array\",arr)\n",
    "print(arr.ndim)"
   ]
  },
  {
   "cell_type": "code",
   "execution_count": 43,
   "id": "5868bb62",
   "metadata": {},
   "outputs": [
    {
     "name": "stdout",
     "output_type": "stream",
     "text": [
      "3-d array [[[1 2 3 4]\n",
      "  [7 6 9 3]]\n",
      "\n",
      " [[2 4 7 8]\n",
      "  [7 9 1 5]]]\n",
      "3\n"
     ]
    }
   ],
   "source": [
    "#3-d arrays\n",
    "arr =np.array([[[1,2,3,4],[7,6,9,3]],[[2,4,7,8],[7,9,1,5]]])\n",
    "print(\"3-d array\",arr)\n",
    "print(arr.ndim)# (.ndim)use to check number of dimensions"
   ]
  },
  {
   "cell_type": "code",
   "execution_count": 44,
   "id": "7616ca84",
   "metadata": {},
   "outputs": [
    {
     "name": "stdout",
     "output_type": "stream",
     "text": [
      "[[[[[1 2 3 4]]]]]\n",
      "number of dimensions : 5\n"
     ]
    }
   ],
   "source": [
    "#higher dimensional arrays\n",
    "arr = np.array([1,2,3,4], ndmin=5)\n",
    "print(arr)\n",
    "print(\"number of dimensions :\",arr.ndim)\n"
   ]
  },
  {
   "cell_type": "code",
   "execution_count": 48,
   "id": "59daddd4",
   "metadata": {},
   "outputs": [
    {
     "name": "stdout",
     "output_type": "stream",
     "text": [
      "4\n",
      "1\n"
     ]
    }
   ],
   "source": [
    "arr = np.array([1,2,3,4])\n"
   ]
  },
  {
   "cell_type": "markdown",
   "id": "1b2b42b5",
   "metadata": {},
   "source": [
    "### Acess array Elements"
   ]
  },
  {
   "cell_type": "code",
   "execution_count": 49,
   "id": "00a14e31",
   "metadata": {},
   "outputs": [],
   "source": [
    "arr = np.array([1,2,3,4])"
   ]
  },
  {
   "cell_type": "code",
   "execution_count": 50,
   "id": "0c0a5c53",
   "metadata": {},
   "outputs": [
    {
     "name": "stdout",
     "output_type": "stream",
     "text": [
      "4\n",
      "1\n"
     ]
    }
   ],
   "source": [
    "#finding array by index number\n",
    "print(arr[3])\n",
    "print(arr[0])"
   ]
  },
  {
   "cell_type": "code",
   "execution_count": 51,
   "id": "e18cb6e7",
   "metadata": {},
   "outputs": [
    {
     "name": "stdout",
     "output_type": "stream",
     "text": [
      "5\n"
     ]
    }
   ],
   "source": [
    "#get two array and add them\n",
    "print(arr[2]+arr[1])"
   ]
  },
  {
   "cell_type": "code",
   "execution_count": 52,
   "id": "9f3c0937",
   "metadata": {},
   "outputs": [
    {
     "name": "stdout",
     "output_type": "stream",
     "text": [
      "2nd element on 1st row: 4\n",
      "2nd element on 2nd row: 6\n"
     ]
    }
   ],
   "source": [
    "#acess 2-d arrays\n",
    "arr = np.array([[1,4,6,8,5],[3,6,8,4,2]])\n",
    "print('2nd element on 1st row:',arr[0,1])\n",
    "print('2nd element on 2nd row:',arr[1,1])"
   ]
  },
  {
   "cell_type": "code",
   "execution_count": 53,
   "id": "0a59a530",
   "metadata": {},
   "outputs": [
    {
     "name": "stdout",
     "output_type": "stream",
     "text": [
      "second element of fisrt array is: 5\n"
     ]
    }
   ],
   "source": [
    "#access 3-d array\n",
    "arr =np.array([[[4,5,6],[3,7,2]],[[2,6,4],[9,6,2]]])\n",
    "print('second element of fisrt array is:',arr[0,0,1])"
   ]
  },
  {
   "cell_type": "code",
   "execution_count": 54,
   "id": "2eebf319",
   "metadata": {},
   "outputs": [
    {
     "name": "stdout",
     "output_type": "stream",
     "text": [
      "last element from 2nd dim: 9\n"
     ]
    }
   ],
   "source": [
    "#negative indexing\n",
    "arr =np.array([[1,2,3,4,5],[2,3,6,8,9]])\n",
    "print('last element from 2nd dim:',arr[1,-1])\n",
    "\n"
   ]
  },
  {
   "cell_type": "markdown",
   "id": "03514a85",
   "metadata": {},
   "source": [
    "### Numpy Array slicing"
   ]
  },
  {
   "cell_type": "code",
   "execution_count": null,
   "id": "171c780c",
   "metadata": {},
   "outputs": [],
   "source": []
  },
  {
   "cell_type": "code",
   "execution_count": null,
   "id": "9d045151",
   "metadata": {},
   "outputs": [],
   "source": []
  },
  {
   "cell_type": "markdown",
   "id": "590fdd73",
   "metadata": {},
   "source": [
    "### Numpy data types\n",
    "by deafault python  have these data types:\n",
    "\n",
    "strings - for text data e.g \"abc\"\n",
    "\n",
    "integer - for integer numbers e.g 00,1,3,-1,-2\n",
    "\n",
    "float - for real numbers e.g 1.2,10.5,1.0\n",
    "\n",
    "boolean - true or false & 1 or 0\n",
    "\n",
    "complex - for complex numbers e.g 1i+5j+2.5"
   ]
  },
  {
   "cell_type": "markdown",
   "id": "f111b07e",
   "metadata": {},
   "source": [
    "#Data types in NumPy\n",
    "i - integer\n",
    "\n",
    "b - boolean\n",
    "\n",
    "u - unsigned integer\n",
    "\n",
    "f - float\n",
    "\n",
    "c - complex float\n",
    "\n",
    "m - timedelta\n",
    "\n",
    "M - datetime\n",
    "\n",
    "O - object\n",
    "\n",
    "S - string\n",
    "\n",
    "U - unicode string\n",
    "\n",
    "V - fixed chunk of memory for other type ( void )\n"
   ]
  },
  {
   "cell_type": "code",
   "execution_count": 1,
   "id": "7ac9a2ec",
   "metadata": {},
   "outputs": [],
   "source": [
    "import numpy as np"
   ]
  },
  {
   "cell_type": "code",
   "execution_count": 2,
   "id": "26ee64a4",
   "metadata": {},
   "outputs": [
    {
     "name": "stdout",
     "output_type": "stream",
     "text": [
      "[b'1' b'2' b'3' b'4']\n",
      "|S1\n"
     ]
    }
   ],
   "source": [
    "#creating an array with datatype string\n",
    "arr = np.array([1,2,3,4],dtype='S')\n",
    "print(arr)\n",
    "print(arr.dtype)"
   ]
  },
  {
   "cell_type": "code",
   "execution_count": 4,
   "id": "116c9abe",
   "metadata": {},
   "outputs": [
    {
     "name": "stdout",
     "output_type": "stream",
     "text": [
      "[1 2 3 4]\n",
      "int32\n"
     ]
    }
   ],
   "source": [
    "#create an array with data type 4/2/8 bytes integer\n",
    "arr = np.array([1,2.,3,4],dtype='i4')\n",
    "print(arr)\n",
    "print(arr.dtype)"
   ]
  },
  {
   "cell_type": "markdown",
   "id": "076f1e65",
   "metadata": {},
   "source": [
    "astype() method - use to change the datatypes of existing array and to make a copy of the array with this method ,used to specify the data type as a parameter ,\n",
    "we can use data type using string like : 'f' for float 'i' for integer or can use directly data type like float or int"
   ]
  },
  {
   "cell_type": "code",
   "execution_count": 5,
   "id": "5b727cc4",
   "metadata": {},
   "outputs": [
    {
     "name": "stdout",
     "output_type": "stream",
     "text": [
      "[1 1 1 2]\n",
      "int32\n"
     ]
    }
   ],
   "source": [
    "#using astype() method \n",
    "arr=np.array([1.0,1.1,1.6,2])\n",
    "n_arr =arr.astype('i')# can use int also\n",
    "print(n_arr)\n",
    "print(n_arr.dtype)"
   ]
  },
  {
   "cell_type": "code",
   "execution_count": 6,
   "id": "ba8c6d1f",
   "metadata": {},
   "outputs": [
    {
     "name": "stdout",
     "output_type": "stream",
     "text": [
      "[ True  True  True]\n"
     ]
    }
   ],
   "source": [
    "arr=np.array([1.0,1.1,1.6])\n",
    "n_arr=arr.astype(bool)\n",
    "print(n_arr)"
   ]
  },
  {
   "cell_type": "markdown",
   "id": "8c8f5811",
   "metadata": {},
   "source": [
    "copy vs view"
   ]
  },
  {
   "cell_type": "code",
   "execution_count": 4,
   "id": "50a40882",
   "metadata": {},
   "outputs": [
    {
     "name": "stdout",
     "output_type": "stream",
     "text": [
      "[42  2  3  4  5]\n",
      "[1 2 3 4 5]\n"
     ]
    }
   ],
   "source": [
    "#copy-used to own data,changes in copy will not effect original array \n",
    "arr=np.array([1,2,3,4,5])\n",
    "x=arr.copy()\n",
    "arr[0]=42\n",
    "print(arr)\n",
    "print(x)"
   ]
  },
  {
   "cell_type": "code",
   "execution_count": 5,
   "id": "84c0dbf6",
   "metadata": {},
   "outputs": [
    {
     "name": "stdout",
     "output_type": "stream",
     "text": [
      "[42  2  3  4  5]\n",
      "[42  2  3  4  5]\n"
     ]
    }
   ],
   "source": [
    "#view() method -view of original array\n",
    "arr=np.array([1,2,3,4,5])\n",
    "x=arr.view()\n",
    "arr[0]=42\n",
    "print(arr)\n",
    "print(x)"
   ]
  },
  {
   "cell_type": "code",
   "execution_count": 9,
   "id": "b46f05db",
   "metadata": {},
   "outputs": [
    {
     "name": "stdout",
     "output_type": "stream",
     "text": [
      "[1 2 3 4 5]\n",
      "None\n",
      "[1 2 3 4 5]\n"
     ]
    }
   ],
   "source": [
    "#print the value of the base to check if an array owns data or not\n",
    "arr=np.array([1,2,3,4,5])\n",
    "x=arr.copy()\n",
    "y=arr.view()\n",
    "\n",
    "print(arr)\n",
    "#every numpy array has the attribute base that returns \"None\" if the array owns the data\n",
    "print(x.base)\n",
    "print(y.base)"
   ]
  },
  {
   "cell_type": "markdown",
   "id": "ca71290f",
   "metadata": {},
   "source": [
    "Numpy array shape\n"
   ]
  },
  {
   "cell_type": "code",
   "execution_count": 18,
   "id": "48c89341",
   "metadata": {},
   "outputs": [
    {
     "name": "stdout",
     "output_type": "stream",
     "text": [
      "(2, 3)\n"
     ]
    }
   ],
   "source": [
    "#print shape of 2-D array\n",
    "arr = np.array([[1, 2, 3],[6,7,8]])\n",
    "print(arr.shape)\n",
    "\n",
    "#it will print (2,3) which means simply (rows-no of vectors,columns-no of elemnts)"
   ]
  },
  {
   "cell_type": "code",
   "execution_count": 12,
   "id": "b40188aa",
   "metadata": {},
   "outputs": [
    {
     "name": "stdout",
     "output_type": "stream",
     "text": [
      "[[[[[1 2 3 4]]]]]\n",
      "shape of array : (1, 1, 1, 1, 4)\n"
     ]
    }
   ],
   "source": [
    "#create an 5-d array using ndmin using a vector [1,2,3,4] and verify last dimension has value 4\n",
    "arr = np.array([1, 2, 3, 4], ndmin=5)\n",
    "\n",
    "print(arr)\n",
    "print('shape of array :', arr.shape) "
   ]
  },
  {
   "cell_type": "code",
   "execution_count": 3,
   "id": "4645dbbe",
   "metadata": {
    "scrolled": true
   },
   "outputs": [
    {
     "name": "stdout",
     "output_type": "stream",
     "text": [
      "1-d array to 2-d array [[ 1  2  3]\n",
      " [ 4  5  6]\n",
      " [ 7  8  9]\n",
      " [10 11 12]]\n",
      "1-d array to 3-d [[[ 1  2]\n",
      "  [ 3  4]]\n",
      "\n",
      " [[ 5  6]\n",
      "  [ 7  8]]\n",
      "\n",
      " [[ 9 10]\n",
      "  [11 12]]]\n",
      "convert the array into 1-d [ 1  2  3  4  5  6  7  8  9 10 11 12]\n",
      "[ 1  2  3  4  5  6  7  8  9 10 11 12]\n"
     ]
    }
   ],
   "source": [
    "#use reshape(no of array,no of elements per array) method to change the shape of array from 1d to 2d\n",
    "arr=np.array([1, 2, 3, 4, 5, 6, 7, 8, 9,10,11,12])\n",
    "newarr=arr.reshape(4,3)#convert 1-d array with 12 elements into a 2-d array\n",
    "print(\"1-d array to 2-d array\",newarr)\n",
    "newarr=arr.reshape(3,2,2)\n",
    "print(\"1-d array to 3-d\",newarr)\n",
    "n2=arr.reshape(-1)\n",
    "print(\"convert the array into 1-d\",n2)\n",
    "print(arr.reshape(6,2).base)"
   ]
  },
  {
   "cell_type": "markdown",
   "id": "b7e075b9",
   "metadata": {},
   "source": [
    "NumPy Array Iterating"
   ]
  },
  {
   "cell_type": "code",
   "execution_count": 7,
   "id": "0971bfc7",
   "metadata": {},
   "outputs": [
    {
     "name": "stdout",
     "output_type": "stream",
     "text": [
      "iterating on the elements of the following 1-d array:\n",
      "1\n",
      "2\n",
      "3\n"
     ]
    }
   ],
   "source": [
    "#iterating on 1-d array\n",
    "arr =np.array([1,2,3])\n",
    "print(\"iterating on the elements of the following 1-d array:\")\n",
    "for x in arr:\n",
    "    print(x)"
   ]
  },
  {
   "cell_type": "code",
   "execution_count": 9,
   "id": "910dd014",
   "metadata": {},
   "outputs": [
    {
     "name": "stdout",
     "output_type": "stream",
     "text": [
      "iterating on the elements of the following 2-d array:\n",
      "[1 2 3]\n",
      "[4 5 6]\n",
      "iterating on each Scalar element of the 2-d array:\n",
      "1\n",
      "2\n",
      "3\n",
      "4\n",
      "5\n",
      "6\n"
     ]
    }
   ],
   "source": [
    "#iterating on 2-d array\n",
    "arr =np.array([[1,2,3],[4,5,6]])\n",
    "print(\"iterating on the elements of the following 2-d array:\")\n",
    "for x in arr:\n",
    "    print(x)\n",
    "print(\"iterating on each Scalar element of the 2-d array:\")\n",
    "for x in arr:\n",
    "    for y in x:\n",
    "        print(y)"
   ]
  },
  {
   "cell_type": "code",
   "execution_count": 12,
   "id": "596e8f31",
   "metadata": {},
   "outputs": [
    {
     "name": "stdout",
     "output_type": "stream",
     "text": [
      "iterating on element of the 3-d array:\n",
      "[[1 2 3]\n",
      " [4 5 6]]\n",
      "[[ 7  8  9]\n",
      " [10 11 12]]\n",
      "iterate down to scalars in 3-d array:\n",
      "1\n",
      "2\n",
      "3\n",
      "4\n",
      "5\n",
      "6\n",
      "7\n",
      "8\n",
      "9\n",
      "10\n",
      "11\n",
      "12\n"
     ]
    }
   ],
   "source": [
    "#iterating on 3-d array , in 3-d it will go through 2-d arrays\n",
    "arr =np.array([[[1, 2, 3], [4, 5, 6]], [[7, 8, 9], [10, 11, 12]]])\n",
    "print(\"iterating on element of the 3-d array:\")\n",
    "for x in arr:\n",
    "    print(x)\n",
    "print(\"iterate down to scalars in 3-d array:\")\n",
    "for x in arr:\n",
    "    for y in x:\n",
    "        for z in y:\n",
    "            print(z)\n"
   ]
  },
  {
   "cell_type": "markdown",
   "id": "b6ef4bdd",
   "metadata": {},
   "source": [
    "nditer()function is used from very basic to very advnaced iterations  \n"
   ]
  },
  {
   "cell_type": "code",
   "execution_count": 13,
   "id": "a9c2f485",
   "metadata": {},
   "outputs": [
    {
     "name": "stdout",
     "output_type": "stream",
     "text": [
      "iterating using nditer() function\n",
      "1\n",
      "2\n",
      "3\n",
      "4\n",
      "5\n",
      "6\n",
      "7\n",
      "8\n"
     ]
    }
   ],
   "source": [
    "# Iterating arrays using nditer() function\n",
    "arr = np.array([[[1, 2], [3, 4]], [[5, 6], [7, 8]]])\n",
    "print(\"iterating using nditer() function\")\n",
    "for x in np.nditer(arr):\n",
    "    print(x)"
   ]
  },
  {
   "cell_type": "code",
   "execution_count": 17,
   "id": "c75e7221",
   "metadata": {},
   "outputs": [
    {
     "name": "stdout",
     "output_type": "stream",
     "text": [
      "iterating through the array as a string\n",
      "b'1'\n",
      "b'2'\n",
      "b'3'\n"
     ]
    }
   ],
   "source": [
    "#iterating array with different data types\n",
    "arr = np.array([1,2,3])\n",
    "print(\"iterating through the array as a string\")\n",
    "for x in np.nditer(arr,flags=['buffered'],op_dtypes=['S']):\n",
    "    print(x)"
   ]
  },
  {
   "cell_type": "code",
   "execution_count": 10,
   "id": "4a1caeac",
   "metadata": {},
   "outputs": [
    {
     "name": "stdout",
     "output_type": "stream",
     "text": [
      "iterating through every scalar element of 2-d array skipping 1 element\n",
      "1\n",
      "3\n",
      "5\n",
      "7\n"
     ]
    }
   ],
   "source": [
    "#iterating with different steo size\n",
    "arr = np.array([[1, 2, 3, 4], [5, 6, 7, 8]])\n",
    "print(\"iterating through every scalar element of 2-d array skipping 1 element\")\n",
    "for x in np.nditer(arr[:,::2]):\n",
    "    print(x)"
   ]
  },
  {
   "cell_type": "markdown",
   "id": "281aed27",
   "metadata": {},
   "source": [
    "Enumeration means mentioning sequence number of somethings one by one."
   ]
  },
  {
   "cell_type": "code",
   "execution_count": 30,
   "id": "c10ce20f",
   "metadata": {
    "scrolled": true
   },
   "outputs": [
    {
     "name": "stdout",
     "output_type": "stream",
     "text": [
      "Enumerate on 1-d array elements\n",
      "(0,) 1\n",
      "(1,) 2\n",
      "(2,) 3\n",
      "(3,) 4\n",
      "Enumerate on 2-d arrays elements\n",
      "(0, 0) 1\n",
      "(0, 1) 2\n",
      "(0, 2) 3\n",
      "(0, 3) 4\n",
      "(1, 0) 5\n",
      "(1, 1) 6\n",
      "(1, 2) 7\n",
      "(1, 3) 8\n"
     ]
    }
   ],
   "source": [
    "#Enumerated iteration using ndenumerate()\n",
    "arr = np.array([1,2,3,4])\n",
    "print(\"Enumerate on 1-d array elements\")\n",
    "for idx, x in np.ndenumerate(arr):\n",
    "    print(idx,x)\n",
    "\n",
    "arr = np.array([[1, 2, 3, 4], [5, 6, 7, 8]])\n",
    "print(\"Enumerate on 2-d arrays elements\")\n",
    "for p, x in np.ndenumerate(arr):\n",
    "  print(p, x) "
   ]
  },
  {
   "cell_type": "markdown",
   "id": "a976af79",
   "metadata": {},
   "source": [
    "NumPy Joining Array\n"
   ]
  },
  {
   "cell_type": "code",
   "execution_count": 6,
   "id": "8e84d11e",
   "metadata": {},
   "outputs": [
    {
     "name": "stdout",
     "output_type": "stream",
     "text": [
      "joining arr1 and arr2:\n",
      "[1 2 3 4 5 6]\n"
     ]
    }
   ],
   "source": [
    "#join two arrays\n",
    "arr1 = np.array([1,2,3])\n",
    "arr2 = np.array([4,5,6])\n",
    "arr = np.concatenate((arr1,arr2))\n",
    "print(\"joining arr1 and arr2:\")\n",
    "print(arr)"
   ]
  },
  {
   "cell_type": "code",
   "execution_count": 13,
   "id": "1cb3fe14",
   "metadata": {},
   "outputs": [
    {
     "name": "stdout",
     "output_type": "stream",
     "text": [
      "[[1 2 5 6]\n",
      " [3 4 7 8]]\n"
     ]
    }
   ],
   "source": [
    "#join two 2-d arrays along rows (axis=1):\n",
    "arr1 = np.array([[1,2],[3,4]])\n",
    "arr2 = np.array([[5,6],[7,8]])\n",
    "arr = np.concatenate((arr1,arr2), axis=1)\n",
    "print(arr)"
   ]
  },
  {
   "cell_type": "code",
   "execution_count": 13,
   "id": "c1968775",
   "metadata": {},
   "outputs": [
    {
     "name": "stdout",
     "output_type": "stream",
     "text": [
      "[[1 4]\n",
      " [2 5]\n",
      " [3 6]]\n"
     ]
    }
   ],
   "source": [
    "#joining Arrays Using Stack() Functions\n",
    "arr1 = np.array([1, 2, 3])\n",
    "\n",
    "arr2 = np.array([4, 5, 6])\n",
    "\n",
    "arr = np.stack((arr1, arr2),axis=1)\n",
    "\n",
    "print(arr) "
   ]
  },
  {
   "cell_type": "code",
   "execution_count": 14,
   "id": "1db7fbbf",
   "metadata": {},
   "outputs": [
    {
     "name": "stdout",
     "output_type": "stream",
     "text": [
      "hstack() to stack along rows\n",
      "[1 2 3 4 5 6]\n"
     ]
    }
   ],
   "source": [
    "#stacking along rows using helper function hstack()to stack along rows:\n",
    "arr1 = np.array([1, 2, 3])\n",
    "\n",
    "arr2 = np.array([4, 5, 6])\n",
    "\n",
    "arr = np.hstack((arr1,arr2))\n",
    "print(\"hstack() to stack along rows\")\n",
    "print(arr)\n"
   ]
  },
  {
   "cell_type": "code",
   "execution_count": 11,
   "id": "00f5c82b",
   "metadata": {},
   "outputs": [
    {
     "name": "stdout",
     "output_type": "stream",
     "text": [
      "vstack() to stack along columns\n",
      "[[1 2 3]\n",
      " [4 5 6]]\n"
     ]
    }
   ],
   "source": [
    "#stack along columns vstack() to stack along columns\n",
    "arr1 = np.array([1, 2, 3])\n",
    "\n",
    "arr2 = np.array([4, 5, 6])\n",
    "arr = np.vstack((arr1,arr2))\n",
    "print(\"vstack() to stack along columns\")\n",
    "print(arr)"
   ]
  },
  {
   "cell_type": "code",
   "execution_count": 16,
   "id": "56bda027",
   "metadata": {},
   "outputs": [
    {
     "name": "stdout",
     "output_type": "stream",
     "text": [
      "stacking along height using dstack()\n",
      "[[[1 4]\n",
      "  [2 5]\n",
      "  [3 6]]]\n"
     ]
    }
   ],
   "source": [
    "#stacking along height(depth)\n",
    "#dstack() to stack along height,same as depth\n",
    "arr1 = np.array([1, 2, 3])\n",
    "\n",
    "arr2 = np.array([4, 5, 6])\n",
    "arr = np.dstack((arr1,arr2))\n",
    "print(\"stacking along height using dstack()\")\n",
    "print(arr)"
   ]
  },
  {
   "cell_type": "markdown",
   "id": "5dd2dce1",
   "metadata": {},
   "source": [
    "Numpy Splitting Array"
   ]
  },
  {
   "cell_type": "code",
   "execution_count": 23,
   "id": "c08f4fc6",
   "metadata": {},
   "outputs": [
    {
     "name": "stdout",
     "output_type": "stream",
     "text": [
      "[array([1, 2]), array([3, 4]), array([5, 6])]\n",
      "[array([1, 2]), array([3, 4]), array([5]), array([6])]\n"
     ]
    }
   ],
   "source": [
    "#split the array in 3 parts\n",
    "#if array has less elements than reqired , it will adjust from the end\n",
    "\n",
    "arr = np.array([1, 2, 3, 4, 5, 6])\n",
    "\n",
    "newarr = np.split(arr, 3)\n",
    "#split array in 4 parts\n",
    "newarr2 = np.array_split(arr, 4)\n",
    "print(newarr) \n",
    "print(newarr2)"
   ]
  },
  {
   "cell_type": "code",
   "execution_count": 26,
   "id": "011a2977",
   "metadata": {},
   "outputs": [
    {
     "name": "stdout",
     "output_type": "stream",
     "text": [
      "[1 2]\n",
      "[3 4]\n",
      "[5]\n",
      "[6]\n"
     ]
    }
   ],
   "source": [
    "#split into arrays\n",
    "#Acess the splitted arrays\n",
    "arr = np.array([1, 2, 3, 4, 5, 6])\n",
    "\n",
    "newarr = np.array_split(arr, 4)\n",
    "\n",
    "print(newarr[0])\n",
    "print(newarr[1])\n",
    "print(newarr[2]) \n",
    "print(newarr[3]) \n"
   ]
  },
  {
   "cell_type": "code",
   "execution_count": 31,
   "id": "1e841880",
   "metadata": {},
   "outputs": [
    {
     "name": "stdout",
     "output_type": "stream",
     "text": [
      "[array([[1, 2],\n",
      "       [3, 4]]), array([[5, 6],\n",
      "       [7, 8]]), array([[ 9, 10],\n",
      "       [11, 12]])]\n"
     ]
    }
   ],
   "source": [
    "#Split the 2-d arrays into three 2-d arrays\n",
    "arr = np.array([[1, 2], [3, 4], [5, 6], [7, 8], [9, 10], [11, 12]])\n",
    "\n",
    "newarr = np.array_split(arr,3)\n",
    "\n",
    "print(newarr)"
   ]
  },
  {
   "cell_type": "code",
   "execution_count": 32,
   "id": "6f39d33c",
   "metadata": {},
   "outputs": [
    {
     "name": "stdout",
     "output_type": "stream",
     "text": [
      "[array([[1, 2, 3],\n",
      "       [4, 5, 6]]), array([[ 7,  8,  9],\n",
      "       [10, 11, 12]]), array([[13, 14, 15],\n",
      "       [16, 17, 18]])]\n"
     ]
    }
   ],
   "source": [
    "#Split the 2-d array into three 2-d arrays.\n",
    "arr = np.array([[1, 2, 3], [4, 5, 6], [7, 8, 9], [10, 11, 12], [13, 14, 15], [16, 17, 18]])\n",
    "\n",
    "newarr = np.array_split(arr,3)\n",
    "\n",
    "print(newarr)"
   ]
  },
  {
   "cell_type": "code",
   "execution_count": 36,
   "id": "7abb4e4a",
   "metadata": {},
   "outputs": [
    {
     "name": "stdout",
     "output_type": "stream",
     "text": [
      "[array([[ 1],\n",
      "       [ 4],\n",
      "       [ 7],\n",
      "       [10],\n",
      "       [13],\n",
      "       [16]]), array([[ 2],\n",
      "       [ 5],\n",
      "       [ 8],\n",
      "       [11],\n",
      "       [14],\n",
      "       [17]]), array([[ 3],\n",
      "       [ 6],\n",
      "       [ 9],\n",
      "       [12],\n",
      "       [15],\n",
      "       [18]])]\n"
     ]
    }
   ],
   "source": [
    "# Split the 2-D array into three 2-D arrays along rows.\n",
    "arr = np.array([[1, 2, 3], [4, 5, 6], [7, 8, 9], [10, 11, 12], [13, 14, 15], [16, 17, 18]])\n",
    "\n",
    "newarr = np.array_split(arr, 3, axis=1)\n",
    "\n",
    "print(newarr) "
   ]
  },
  {
   "cell_type": "code",
   "execution_count": 37,
   "id": "a654bf33",
   "metadata": {},
   "outputs": [
    {
     "name": "stdout",
     "output_type": "stream",
     "text": [
      "[array([[ 1],\n",
      "       [ 4],\n",
      "       [ 7],\n",
      "       [10],\n",
      "       [13],\n",
      "       [16]]), array([[ 2],\n",
      "       [ 5],\n",
      "       [ 8],\n",
      "       [11],\n",
      "       [14],\n",
      "       [17]]), array([[ 3],\n",
      "       [ 6],\n",
      "       [ 9],\n",
      "       [12],\n",
      "       [15],\n",
      "       [18]])]\n"
     ]
    }
   ],
   "source": [
    "#hsplit() method to split 2-d array into three 2-d arrays along rows\n",
    "newarr = np.hsplit(arr,3)\n",
    "print(newarr)"
   ]
  },
  {
   "cell_type": "markdown",
   "id": "6f7b1050",
   "metadata": {},
   "source": [
    "#similar a;ternative to vstack() and dstack() are available as vsplit() and dsplit().\n"
   ]
  },
  {
   "cell_type": "markdown",
   "id": "50cea6e1",
   "metadata": {},
   "source": [
    "numpy searching arrays\n"
   ]
  },
  {
   "cell_type": "code",
   "execution_count": 52,
   "id": "b7199836",
   "metadata": {},
   "outputs": [],
   "source": [
    "#to search array,use the where() method.\n",
    "arr = np.array([1, 2, 3, 4, 5, 4, 4,7,8])"
   ]
  },
  {
   "cell_type": "code",
   "execution_count": 42,
   "id": "c83935e3",
   "metadata": {},
   "outputs": [
    {
     "name": "stdout",
     "output_type": "stream",
     "text": [
      "(array([3, 5, 6], dtype=int64),)\n"
     ]
    }
   ],
   "source": [
    "a = np.where(arr == 4)\n",
    "print(a)"
   ]
  },
  {
   "cell_type": "code",
   "execution_count": 44,
   "id": "f0b97eed",
   "metadata": {},
   "outputs": [
    {
     "name": "stdout",
     "output_type": "stream",
     "text": [
      "(array([1, 3, 5, 6, 8], dtype=int64),)\n"
     ]
    }
   ],
   "source": [
    "#find index where the values are even\n",
    "even = np.where(arr%2==0)\n",
    "print(even)"
   ]
  },
  {
   "cell_type": "code",
   "execution_count": 47,
   "id": "79fa89eb",
   "metadata": {},
   "outputs": [
    {
     "name": "stdout",
     "output_type": "stream",
     "text": [
      "(array([0, 2, 4, 7], dtype=int64),)\n"
     ]
    }
   ],
   "source": [
    "#find index where values are odd\n",
    "odd = np.where(arr%2 ==1)\n",
    "print(odd)"
   ]
  },
  {
   "cell_type": "markdown",
   "id": "5067d2e7",
   "metadata": {},
   "source": [
    "#search sorted \n",
    "#searchsorted() method is used to find the index where value would be inserted to maintain the search order\n",
    "#assumed to use on sorted arrays\n"
   ]
  },
  {
   "cell_type": "code",
   "execution_count": 49,
   "id": "08b9d465",
   "metadata": {},
   "outputs": [
    {
     "name": "stdout",
     "output_type": "stream",
     "text": [
      "7\n"
     ]
    }
   ],
   "source": [
    "#find index value where value 7 should be inserted\n",
    "x = np.searchsorted(arr,7)\n",
    "print(x)"
   ]
  },
  {
   "cell_type": "code",
   "execution_count": 28,
   "id": "f4ef3dec",
   "metadata": {},
   "outputs": [
    {
     "name": "stdout",
     "output_type": "stream",
     "text": [
      "1\n"
     ]
    }
   ],
   "source": [
    "#side=right :starts with index value 1 and 'left' starts with index value 0\n",
    "arr = np.array([2,4,6,7])\n",
    "x = np.searchsorted(arr, 2,side='right')\n",
    "print(x)"
   ]
  },
  {
   "cell_type": "code",
   "execution_count": 26,
   "id": "af22cade",
   "metadata": {},
   "outputs": [
    {
     "name": "stdout",
     "output_type": "stream",
     "text": [
      "[2 4 0]\n"
     ]
    }
   ],
   "source": [
    "#find multiple values\n",
    "arr = np.array([1,2,3,4,5])\n",
    "x = np.searchsorted(arr,[3,5,1])\n",
    "print(x)"
   ]
  },
  {
   "cell_type": "code",
   "execution_count": 30,
   "id": "40b05aa5",
   "metadata": {},
   "outputs": [
    {
     "name": "stdout",
     "output_type": "stream",
     "text": [
      "[1 2 2 3 4 7]\n"
     ]
    }
   ],
   "source": [
    "#sorting arrrays use sort()method\n",
    "arr =np.array([4,2,7,2,3,1])\n",
    "print(np.sort(arr))"
   ]
  },
  {
   "cell_type": "markdown",
   "id": "2a464d5e",
   "metadata": {},
   "source": [
    "note: this method returns the copy of the array , leaving the original one unchanged"
   ]
  },
  {
   "cell_type": "code",
   "execution_count": 32,
   "id": "2ce32065",
   "metadata": {},
   "outputs": [
    {
     "name": "stdout",
     "output_type": "stream",
     "text": [
      "['blue' 'green' 'grey' 'red' 'yellow']\n"
     ]
    }
   ],
   "source": [
    "#sort array alphabatically\n",
    "arr = np.array(['yellow','green','blue','red','grey'])\n",
    "print(np.sort(arr))"
   ]
  },
  {
   "cell_type": "code",
   "execution_count": 33,
   "id": "90a0ba7f",
   "metadata": {},
   "outputs": [],
   "source": [
    "#sort array can sort 2-d array as well as boolean array also"
   ]
  },
  {
   "cell_type": "markdown",
   "id": "e86690cc",
   "metadata": {},
   "source": [
    "Filtering arrays"
   ]
  },
  {
   "cell_type": "code",
   "execution_count": 34,
   "id": "63b594fb",
   "metadata": {},
   "outputs": [
    {
     "name": "stdout",
     "output_type": "stream",
     "text": [
      "[22 24]\n"
     ]
    }
   ],
   "source": [
    "#filter an array using a boolean index list\n",
    "#\n",
    "arr =np.array([22,24,30,47])\n",
    "\n",
    "x = [True,True,False,False]\n",
    "\n",
    "newarr = arr[x]\n",
    "print(newarr)"
   ]
  },
  {
   "cell_type": "code",
   "execution_count": 37,
   "id": "b211f6a8",
   "metadata": {},
   "outputs": [
    {
     "name": "stdout",
     "output_type": "stream",
     "text": [
      "[23 45 60 22 10 30]\n",
      "[False, True, True, False, False, False]\n",
      "[45 60]\n"
     ]
    }
   ],
   "source": [
    "#create a filter array that will return only values higher than 30:\n",
    "arr = np.array([23,45,60,22,10,30])\n",
    "\n",
    "#creating empty list\n",
    "filter_arr = []\n",
    "\n",
    "#go through each element of the array\n",
    "for x in arr:\n",
    "#if the value is higher than 30 ,set the value to True or else false\n",
    "    if x > 30:\n",
    "        filter_arr.append(True)\n",
    "    else:\n",
    "        filter_arr.append(False)\n",
    "        \n",
    "newarr = arr[filter_arr]\n",
    "print(arr)\n",
    "print(filter_arr)\n",
    "print(newarr)"
   ]
  },
  {
   "cell_type": "code",
   "execution_count": 38,
   "id": "8389ed76",
   "metadata": {},
   "outputs": [
    {
     "name": "stdout",
     "output_type": "stream",
     "text": [
      "[23 45 60 22 10 30]\n",
      "[False, False, True, True, True, True]\n",
      "[60 22 10 30]\n"
     ]
    }
   ],
   "source": [
    "#create a filter that will return even values or elements from the array\n",
    "\n",
    "arr = np.array([23,45,60,22,10,30])\n",
    "\n",
    "#creating empty list\n",
    "filter_arr = []\n",
    "\n",
    "#go through each element\n",
    "for x in arr:\n",
    "    if x%2 == 0:\n",
    "        filter_arr.append(True)\n",
    "    else:\n",
    "        filter_arr.append(False)\n",
    "        \n",
    "newarr = arr[filter_arr]\n",
    "\n",
    "print(arr)\n",
    "print(filter_arr)\n",
    "print(newarr)"
   ]
  },
  {
   "cell_type": "code",
   "execution_count": 40,
   "id": "ac8fae2f",
   "metadata": {},
   "outputs": [],
   "source": [
    "#we can use this method for creating filter directly from array"
   ]
  },
  {
   "cell_type": "markdown",
   "id": "2688d21f",
   "metadata": {},
   "source": [
    "..."
   ]
  },
  {
   "cell_type": "markdown",
   "id": "8dbb5270",
   "metadata": {},
   "source": [
    "### Random Numbers in Numpy"
   ]
  },
  {
   "cell_type": "markdown",
   "id": "1299621e",
   "metadata": {},
   "source": [
    "#### generate random numbers"
   ]
  },
  {
   "cell_type": "code",
   "execution_count": 3,
   "id": "8eba3e8b",
   "metadata": {},
   "outputs": [],
   "source": [
    "#generate a random integer from 0 to 100"
   ]
  },
  {
   "cell_type": "code",
   "execution_count": 2,
   "id": "0400e14b",
   "metadata": {},
   "outputs": [],
   "source": [
    "from numpy import random"
   ]
  },
  {
   "cell_type": "code",
   "execution_count": 3,
   "id": "330d98e5",
   "metadata": {},
   "outputs": [
    {
     "name": "stdout",
     "output_type": "stream",
     "text": [
      "28\n"
     ]
    }
   ],
   "source": [
    "x = random.randint(100)\n",
    "print(x)"
   ]
  },
  {
   "cell_type": "markdown",
   "id": "c9efd8b2",
   "metadata": {},
   "source": [
    "#### generate random float"
   ]
  },
  {
   "cell_type": "code",
   "execution_count": 4,
   "id": "d18badcb",
   "metadata": {},
   "outputs": [
    {
     "name": "stdout",
     "output_type": "stream",
     "text": [
      "0.6820200384014334\n"
     ]
    }
   ],
   "source": [
    "#rand()method returns random float between 0 to 1\n",
    "\n",
    "x=random.rand()\n",
    "print(x)\n"
   ]
  },
  {
   "cell_type": "markdown",
   "id": "797e01ff",
   "metadata": {},
   "source": [
    "#### generate random array"
   ]
  },
  {
   "cell_type": "raw",
   "id": "0919ca9d",
   "metadata": {},
   "source": [
    "#integers\n",
    "#randint() method takes a size parameter where you can specify the shape of an array\n"
   ]
  },
  {
   "cell_type": "code",
   "execution_count": 5,
   "id": "2fe2cb2e",
   "metadata": {},
   "outputs": [
    {
     "name": "stdout",
     "output_type": "stream",
     "text": [
      "[68 88 40 96 52]\n"
     ]
    }
   ],
   "source": [
    "#genarte a 1-d array containing 5 random integers from 0 to 100\n",
    "\n",
    "x= random.randint(100, size=(5))\n",
    "print(x)"
   ]
  },
  {
   "cell_type": "code",
   "execution_count": 6,
   "id": "d65f3d1c",
   "metadata": {},
   "outputs": [
    {
     "name": "stdout",
     "output_type": "stream",
     "text": [
      "[[58 70 57 40 99]\n",
      " [81 55  9 32 67]\n",
      " [79 36 34 99 81]]\n"
     ]
    }
   ],
   "source": [
    "#generate a 2-d array with 3 rows ,each row containing 5 random integers from 0-100:\n",
    "x = random.randint(100,size=(3,5))\n",
    "print(x)"
   ]
  },
  {
   "cell_type": "raw",
   "id": "3c08ad4c",
   "metadata": {},
   "source": [
    "#floats\n",
    "#rand() method to specify the shape of array\n"
   ]
  },
  {
   "cell_type": "code",
   "execution_count": 7,
   "id": "5b237670",
   "metadata": {},
   "outputs": [
    {
     "name": "stdout",
     "output_type": "stream",
     "text": [
      "[0.82081524 0.57168381 0.02312337 0.27686851 0.99557531]\n"
     ]
    }
   ],
   "source": [
    "#genarte 1-d array containing  5 random floats\n",
    "x = random.rand(5)\n",
    "print(x)"
   ]
  },
  {
   "cell_type": "code",
   "execution_count": 13,
   "id": "b0bf5ddc",
   "metadata": {},
   "outputs": [
    {
     "name": "stdout",
     "output_type": "stream",
     "text": [
      "[[0.80592135 0.06188498 0.07898142 0.8051007  0.48070485]\n",
      " [0.12877585 0.15798656 0.35899912 0.27260329 0.38033001]\n",
      " [0.93352593 0.33459836 0.55485527 0.63320109 0.16497976]]\n"
     ]
    }
   ],
   "source": [
    "#genarte a 2- d array with 3 rows , each row conatining 5 random floats\n",
    "x = random.rand(3,5)\n",
    "print(x)"
   ]
  },
  {
   "cell_type": "raw",
   "id": "fd1c934d",
   "metadata": {},
   "source": [
    "Generate Random Numbers from Array\n",
    "\n",
    "#choice() method used to generate random value based on an array of values.\n",
    "#this method takes an array as a parameter \n",
    "#size parameter to specify the shape of the array\n"
   ]
  },
  {
   "cell_type": "code",
   "execution_count": 15,
   "id": "7ff3fc28",
   "metadata": {},
   "outputs": [
    {
     "name": "stdout",
     "output_type": "stream",
     "text": [
      "7\n"
     ]
    }
   ],
   "source": [
    "#return one of the valves in an array\n",
    "x = random.choice([2,5,7,4])\n",
    "print(x)"
   ]
  },
  {
   "cell_type": "code",
   "execution_count": 17,
   "id": "5b5873a4",
   "metadata": {},
   "outputs": [
    {
     "name": "stdout",
     "output_type": "stream",
     "text": [
      "[[7 3 9 7 5]\n",
      " [5 5 5 9 3]\n",
      " [5 9 5 3 5]]\n"
     ]
    }
   ],
   "source": [
    "#generate a 2d array that consists of the values in the array parameter\n",
    "\n",
    "x = random.choice([3,5,7,9],size=(3,5))\n",
    "print(x)"
   ]
  },
  {
   "cell_type": "markdown",
   "id": "2f7be8eb",
   "metadata": {},
   "source": [
    "### Random data distribution"
   ]
  },
  {
   "cell_type": "raw",
   "id": "5fb87b3c",
   "metadata": {},
   "source": [
    "We can generate random numbers based on defined probabilities using the choice() method of the random module.\n",
    "#choice() method specify the probability for each value.\n",
    "#The probability is set by a number between 0 and 1, where 0 means that the value will never occur and 1 means that the value will always occur.\n"
   ]
  },
  {
   "cell_type": "code",
   "execution_count": 8,
   "id": "313ee946",
   "metadata": {},
   "outputs": [
    {
     "name": "stdout",
     "output_type": "stream",
     "text": [
      "[3 3 5 2 3 2 2 3 5 2 2 2 2 5 2 5 2 5 2 2 3 3 5 5 5 3 2 3 5 3 5 5 3 5 3 2 5\n",
      " 5 3 5 2 5 2 5 3 2 3 5 2 3 3 5 5 5 5 3 5 5 3 5 5 5 3 5 5 3 3 5 5 5 3 3 5 5\n",
      " 2 3 2 5 5 3 5 3 2 5 3 3 5 5 5 5 5 2 5 2 5 5 5 5 3 5]\n"
     ]
    }
   ],
   "source": [
    "#generate a 1-d array containing 100 values,\n",
    "#where each value has to be the given array elements\n",
    "x = random.choice([2,3,5,7], p=[0.2,0.3,0.5,0.0], size=(100))\n",
    "print(x)"
   ]
  },
  {
   "cell_type": "code",
   "execution_count": 9,
   "id": "7bc1b71f",
   "metadata": {},
   "outputs": [
    {
     "name": "stdout",
     "output_type": "stream",
     "text": [
      "[[3 8 8 8 3]\n",
      " [8 3 3 8 2]\n",
      " [8 3 2 8 8]]\n"
     ]
    }
   ],
   "source": [
    "#same e.x as above, \n",
    "#but return 2-d array with 3 rows and each containing 5 values\n",
    "x = random.choice([2,3,5,8],p=[0.2,0.2,0.0,0.6], size=(3,5))\n",
    "print(x)"
   ]
  },
  {
   "cell_type": "raw",
   "id": "d8b591ac",
   "metadata": {},
   "source": [
    "note: the sum of all probability numbers should be 1."
   ]
  },
  {
   "cell_type": "markdown",
   "id": "955e657f",
   "metadata": {},
   "source": [
    "....."
   ]
  },
  {
   "cell_type": "markdown",
   "id": "9b8aa0df",
   "metadata": {},
   "source": [
    "### Random permutations"
   ]
  },
  {
   "cell_type": "raw",
   "id": "0ebc1ba4",
   "metadata": {},
   "source": [
    "->random permutations of elements\n",
    "->a permuation refers to an arrangement of elements.\n",
    "->e.x. [2,1,3] is a permutation of [1,2,3] and vice-versa.\n",
    "->there are 2 methods for this from numpy random :\n",
    "1.shuffle()\n",
    "      -->means changing arrangement of elements in-place or in array or making chnages in original array\n",
    "      \n",
    "2.permutation()\n",
    "      -->returns a re-arranged array and leaves the original array unchanged."
   ]
  },
  {
   "cell_type": "code",
   "execution_count": 46,
   "id": "2e348461",
   "metadata": {},
   "outputs": [
    {
     "name": "stdout",
     "output_type": "stream",
     "text": [
      "[5 2 3 1 4]\n"
     ]
    }
   ],
   "source": [
    "# randomly shuffle elemts of the following array\n",
    "\n",
    "arr = np.array([1,2,3,4,5])\n",
    "\n",
    "random.shuffle(arr)\n",
    "\n",
    "print(arr)"
   ]
  },
  {
   "cell_type": "code",
   "execution_count": 10,
   "id": "0d4740c2",
   "metadata": {},
   "outputs": [
    {
     "name": "stdout",
     "output_type": "stream",
     "text": [
      "[3 5 2 1 4]\n",
      "[1 2 3 4 5]\n"
     ]
    }
   ],
   "source": [
    "#generate a random permutation of elements of the elements of foll array:\n",
    "\n",
    "arr = np.array([1,2,3,4,5])\n",
    "\n",
    "print(random.permutation(arr))\n",
    "print(arr)\n",
    "\n"
   ]
  },
  {
   "cell_type": "markdown",
   "id": "4ffa679f",
   "metadata": {},
   "source": [
    "## Seaborn"
   ]
  },
  {
   "cell_type": "raw",
   "id": "5baed99d",
   "metadata": {},
   "source": [
    "-->Seaborn is a library that uses Matplotlib underneath to plot    graphs. \n",
    "-->It will be used to visualize random distributions."
   ]
  },
  {
   "cell_type": "markdown",
   "id": "1b1a49fa",
   "metadata": {},
   "source": [
    "### Displots"
   ]
  },
  {
   "cell_type": "raw",
   "id": "c8730b7a",
   "metadata": {},
   "source": [
    "-->stands for distribution of plots\n",
    "-->it takes input as an array and plot a curve corresponding to the distribution of points in array."
   ]
  },
  {
   "cell_type": "code",
   "execution_count": 3,
   "id": "7521daea",
   "metadata": {},
   "outputs": [],
   "source": [
    "import matplotlib.pyplot as plt"
   ]
  },
  {
   "cell_type": "code",
   "execution_count": 4,
   "id": "9fd8d127",
   "metadata": {},
   "outputs": [],
   "source": [
    "import seaborn as sns"
   ]
  },
  {
   "cell_type": "code",
   "execution_count": 5,
   "id": "c1ae12bf",
   "metadata": {},
   "outputs": [
    {
     "name": "stderr",
     "output_type": "stream",
     "text": [
      "C:\\Users\\lenovo\\Desktop\\python\\new_project\\env\\lib\\site-packages\\seaborn\\distributions.py:2619: FutureWarning: `distplot` is a deprecated function and will be removed in a future version. Please adapt your code to use either `displot` (a figure-level function with similar flexibility) or `histplot` (an axes-level function for histograms).\n",
      "  warnings.warn(msg, FutureWarning)\n"
     ]
    },
    {
     "data": {
      "image/png": "[encoded data removed]",
      "text/plain": [
       "<Figure size 432x288 with 1 Axes>"
      ]
     },
     "metadata": {
      "needs_background": "light"
     },
     "output_type": "display_data"
    }
   ],
   "source": [
    "#plotting a displot\n",
    "sns.distplot([0,1,2,3,4,5])\n",
    "plt.show()"
   ]
  },
  {
   "cell_type": "code",
   "execution_count": 6,
   "id": "a1092738",
   "metadata": {},
   "outputs": [
    {
     "name": "stderr",
     "output_type": "stream",
     "text": [
      "C:\\Users\\lenovo\\Desktop\\python\\new_project\\env\\lib\\site-packages\\seaborn\\distributions.py:2619: FutureWarning: `distplot` is a deprecated function and will be removed in a future version. Please adapt your code to use either `displot` (a figure-level function with similar flexibility) or `kdeplot` (an axes-level function for kernel density plots).\n",
      "  warnings.warn(msg, FutureWarning)\n"
     ]
    },
    {
     "data": {
      "image/png": "[encoded data removed]",
      "text/plain": [
       "<Figure size 432x288 with 1 Axes>"
      ]
     },
     "metadata": {
      "needs_background": "light"
     },
     "output_type": "display_data"
    }
   ],
   "source": [
    "#plotting a displot without the histogram\n",
    "\n",
    "sns.distplot([0,1,2,3,4,5], hist=False)\n",
    "\n",
    "plt.show()"
   ]
  },
  {
   "cell_type": "markdown",
   "id": "7c440188",
   "metadata": {},
   "source": [
    "### Normal (Gussian) Distribution"
   ]
  },
  {
   "cell_type": "raw",
   "id": "2e2d30f7",
   "metadata": {},
   "source": [
    "-->Normal Distribution\n",
    "-->one of the most important distribution\n",
    "-->it is also called gussian distribution \n",
    "-->It fits the probability distribution of many events, eg. IQ Scores, Heartbeat etc.\n",
    "-->random.normal() method to gat a normal data distributions.\n",
    "-->it has three parameters:\n",
    "1.loc -(mean) where the peak of the bell exits.\n",
    "2.scale-(standard deviation) how flat the graph distribution should be.\n",
    "3.size-the shape of the returned array.\n"
   ]
  },
  {
   "cell_type": "code",
   "execution_count": 7,
   "id": "e13e62b9",
   "metadata": {},
   "outputs": [
    {
     "name": "stdout",
     "output_type": "stream",
     "text": [
      "[[ 0.25588861 -0.92840777 -0.45193479]\n",
      " [-0.09776682 -0.64220789 -0.09647095]]\n"
     ]
    }
   ],
   "source": [
    "#Generate a random normal distribution of size 2x3:\n",
    "\n",
    "x = random.normal(size=(2,3))\n",
    "print(x)"
   ]
  },
  {
   "cell_type": "code",
   "execution_count": 8,
   "id": "a4619611",
   "metadata": {},
   "outputs": [
    {
     "name": "stdout",
     "output_type": "stream",
     "text": [
      "[[ 6.2058645   2.67380321  0.93125897]\n",
      " [-0.2604378   0.5009503   0.37539869]]\n"
     ]
    }
   ],
   "source": [
    "#Generate a random normal distribution of size 2x3 \n",
    "#with mean at 1 and standard deviation of 2\n",
    "\n",
    "x = random.normal(loc=1, scale=2, size=(2,3))\n",
    "\n",
    "print(x)"
   ]
  },
  {
   "cell_type": "markdown",
   "id": "6bc5a3cc",
   "metadata": {},
   "source": [
    "visualization of normal distribution\n"
   ]
  },
  {
   "cell_type": "code",
   "execution_count": 9,
   "id": "100f4db1",
   "metadata": {},
   "outputs": [
    {
     "name": "stderr",
     "output_type": "stream",
     "text": [
      "C:\\Users\\lenovo\\Desktop\\python\\new_project\\env\\lib\\site-packages\\seaborn\\distributions.py:2619: FutureWarning: `distplot` is a deprecated function and will be removed in a future version. Please adapt your code to use either `displot` (a figure-level function with similar flexibility) or `kdeplot` (an axes-level function for kernel density plots).\n",
      "  warnings.warn(msg, FutureWarning)\n"
     ]
    },
    {
     "data": {
      "image/png": "[encoded data removed]",
      "text/plain": [
       "<Figure size 432x288 with 1 Axes>"
      ]
     },
     "metadata": {
      "needs_background": "light"
     },
     "output_type": "display_data"
    }
   ],
   "source": [
    "sns.distplot(random.normal(size=1000),hist=False)\n",
    "\n",
    "plt.show()"
   ]
  },
  {
   "cell_type": "markdown",
   "id": "8fcf2edc",
   "metadata": {},
   "source": [
    "#### Note:the curve of a normal distribution is also known as Bell Curve beacuse of the bell-shaped curve"
   ]
  },
  {
   "cell_type": "markdown",
   "id": "39d2adbb",
   "metadata": {},
   "source": [
    "### Binomial distribution"
   ]
  },
  {
   "cell_type": "markdown",
   "id": "686c855e",
   "metadata": {},
   "source": [
    "-->it is a discrete distribution"
   ]
  },
  {
   "cell_type": "markdown",
   "id": "7a2b92de",
   "metadata": {},
   "source": [
    "-->describes outcome of binary senario "
   ]
  },
  {
   "cell_type": "markdown",
   "id": "0583bfad",
   "metadata": {},
   "source": [
    "it has three parameters\n"
   ]
  },
  {
   "cell_type": "raw",
   "id": "291b0e96",
   "metadata": {},
   "source": [
    "n - number of trials\n",
    "p - probability of occurance of each trial\n",
    "size - the shape of the retuned array."
   ]
  },
  {
   "cell_type": "code",
   "execution_count": 10,
   "id": "6d7584a2",
   "metadata": {},
   "outputs": [
    {
     "name": "stdout",
     "output_type": "stream",
     "text": [
      "[6 5 3 4 3 4 5 6 7 4]\n"
     ]
    }
   ],
   "source": [
    "#give 10 trials for coin toss genearte 10 data points\n",
    "\n",
    "x = random.binomial(n=10, p=0.5, size=10)\n",
    "\n",
    "print(x)"
   ]
  },
  {
   "cell_type": "markdown",
   "id": "b5f03344",
   "metadata": {},
   "source": [
    "Visualization of binomial distribution"
   ]
  },
  {
   "cell_type": "code",
   "execution_count": 11,
   "id": "b227778a",
   "metadata": {},
   "outputs": [
    {
     "name": "stderr",
     "output_type": "stream",
     "text": [
      "C:\\Users\\lenovo\\Desktop\\python\\new_project\\env\\lib\\site-packages\\seaborn\\distributions.py:2619: FutureWarning: `distplot` is a deprecated function and will be removed in a future version. Please adapt your code to use either `displot` (a figure-level function with similar flexibility) or `histplot` (an axes-level function for histograms).\n",
      "  warnings.warn(msg, FutureWarning)\n"
     ]
    },
    {
     "data": {
      "image/png": "[encoded data removed]",
      "text/plain": [
       "<Figure size 432x288 with 1 Axes>"
      ]
     },
     "metadata": {
      "needs_background": "light"
     },
     "output_type": "display_data"
    }
   ],
   "source": [
    "sns.distplot(random.binomial(n=10, p=0.5, size=1000), hist=True,kde=False)\n",
    "\n",
    "plt.show()"
   ]
  },
  {
   "cell_type": "markdown",
   "id": "408ec290",
   "metadata": {},
   "source": [
    "Difference Between Normal and Binomial distribution"
   ]
  },
  {
   "cell_type": "markdown",
   "id": "0fdcf786",
   "metadata": {},
   "source": [
    "#the main difference is that Normal distribution is continuous and binomial is discrete , but if there are enough data points it will be preety similar to normal distribution"
   ]
  },
  {
   "cell_type": "code",
   "execution_count": 12,
   "id": "7df06cc8",
   "metadata": {},
   "outputs": [
    {
     "name": "stderr",
     "output_type": "stream",
     "text": [
      "C:\\Users\\lenovo\\Desktop\\python\\new_project\\env\\lib\\site-packages\\seaborn\\distributions.py:2619: FutureWarning: `distplot` is a deprecated function and will be removed in a future version. Please adapt your code to use either `displot` (a figure-level function with similar flexibility) or `kdeplot` (an axes-level function for kernel density plots).\n",
      "  warnings.warn(msg, FutureWarning)\n",
      "C:\\Users\\lenovo\\Desktop\\python\\new_project\\env\\lib\\site-packages\\seaborn\\distributions.py:2619: FutureWarning: `distplot` is a deprecated function and will be removed in a future version. Please adapt your code to use either `displot` (a figure-level function with similar flexibility) or `kdeplot` (an axes-level function for kernel density plots).\n",
      "  warnings.warn(msg, FutureWarning)\n"
     ]
    },
    {
     "data": {
      "image/png": "[encoded data removed]",
      "text/plain": [
       "<Figure size 432x288 with 1 Axes>"
      ]
     },
     "metadata": {
      "needs_background": "light"
     },
     "output_type": "display_data"
    }
   ],
   "source": [
    "sns.distplot(random.normal(loc=50, scale=5, size=1000), hist=False,\n",
    "            label=\"normal\")\n",
    "sns.distplot(random.binomial(n=100, p=0.5, size=1000),hist=False,\n",
    "            \n",
    "            label='binomial')\n",
    "plt.show()"
   ]
  },
  {
   "cell_type": "markdown",
   "id": "ad192a96",
   "metadata": {},
   "source": [
    "### poisson distribution"
   ]
  },
  {
   "cell_type": "markdown",
   "id": "bd36f684",
   "metadata": {},
   "source": [
    "--> it is a discrete distribution\n"
   ]
  },
  {
   "cell_type": "markdown",
   "id": "65f6fd3a",
   "metadata": {},
   "source": [
    "-->it estimates how many times an event can happen in a specified time."
   ]
  },
  {
   "cell_type": "markdown",
   "id": "8e8e71db",
   "metadata": {},
   "source": [
    "-->it has two paramteres:\n",
    "    \n",
    "    lam - rate or known number of occurances.\n",
    "    \n",
    "    size- The shape of the returned array."
   ]
  },
  {
   "cell_type": "code",
   "execution_count": 13,
   "id": "19d14fbe",
   "metadata": {},
   "outputs": [
    {
     "name": "stdout",
     "output_type": "stream",
     "text": [
      "[4 1 4 3 1 1 1 2 0 0]\n"
     ]
    }
   ],
   "source": [
    "#generate a random  1x10 distribution for occurance 2\n",
    "\n",
    "x = random.poisson(lam=2, size=10)\n",
    "print(x)\n"
   ]
  },
  {
   "cell_type": "markdown",
   "id": "ac2cdf66",
   "metadata": {},
   "source": [
    "Visualization of Poisson Distribution"
   ]
  },
  {
   "cell_type": "code",
   "execution_count": 14,
   "id": "3d287d95",
   "metadata": {},
   "outputs": [
    {
     "name": "stderr",
     "output_type": "stream",
     "text": [
      "C:\\Users\\lenovo\\Desktop\\python\\new_project\\env\\lib\\site-packages\\seaborn\\distributions.py:2619: FutureWarning: `distplot` is a deprecated function and will be removed in a future version. Please adapt your code to use either `displot` (a figure-level function with similar flexibility) or `histplot` (an axes-level function for histograms).\n",
      "  warnings.warn(msg, FutureWarning)\n"
     ]
    },
    {
     "data": {
      "image/png": "[encoded data removed]",
      "text/plain": [
       "<Figure size 432x288 with 1 Axes>"
      ]
     },
     "metadata": {
      "needs_background": "light"
     },
     "output_type": "display_data"
    }
   ],
   "source": [
    "sns.distplot(random.poisson(lam=2, size=1000),kde=False)\n",
    "\n",
    "plt.show()"
   ]
  },
  {
   "cell_type": "markdown",
   "id": "bb626f70",
   "metadata": {},
   "source": [
    "Difference between Normal and Poisson Distribution"
   ]
  },
  {
   "cell_type": "code",
   "execution_count": 15,
   "id": "996e3ac9",
   "metadata": {},
   "outputs": [
    {
     "name": "stderr",
     "output_type": "stream",
     "text": [
      "C:\\Users\\lenovo\\Desktop\\python\\new_project\\env\\lib\\site-packages\\seaborn\\distributions.py:2619: FutureWarning: `distplot` is a deprecated function and will be removed in a future version. Please adapt your code to use either `displot` (a figure-level function with similar flexibility) or `kdeplot` (an axes-level function for kernel density plots).\n",
      "  warnings.warn(msg, FutureWarning)\n",
      "C:\\Users\\lenovo\\Desktop\\python\\new_project\\env\\lib\\site-packages\\seaborn\\distributions.py:2619: FutureWarning: `distplot` is a deprecated function and will be removed in a future version. Please adapt your code to use either `displot` (a figure-level function with similar flexibility) or `kdeplot` (an axes-level function for kernel density plots).\n",
      "  warnings.warn(msg, FutureWarning)\n"
     ]
    },
    {
     "data": {
      "image/png": "[encoded data removed]",
      "text/plain": [
       "<Figure size 432x288 with 1 Axes>"
      ]
     },
     "metadata": {
      "needs_background": "light"
     },
     "output_type": "display_data"
    }
   ],
   "source": [
    "sns.distplot(random.normal(loc=50, scale=7, size=1000), hist=False)\n",
    "sns.distplot(random.poisson(lam=50, size=1000), hist=False)\n",
    "\n",
    "\n",
    "plt.show() "
   ]
  },
  {
   "cell_type": "markdown",
   "id": "fff7f1d6",
   "metadata": {},
   "source": [
    "Difference between Poisson and Binomial distribution"
   ]
  },
  {
   "cell_type": "markdown",
   "id": "85e863c4",
   "metadata": {},
   "source": [
    "The difference is very subtle it is that, binomial distribution is for discrete trials, whereas poisson distribution is for continuous trials."
   ]
  },
  {
   "cell_type": "markdown",
   "id": "4cbed751",
   "metadata": {},
   "source": [
    "n*p is nearly equal to lam"
   ]
  },
  {
   "cell_type": "code",
   "execution_count": 16,
   "id": "88b2bee3",
   "metadata": {},
   "outputs": [
    {
     "name": "stderr",
     "output_type": "stream",
     "text": [
      "C:\\Users\\lenovo\\Desktop\\python\\new_project\\env\\lib\\site-packages\\seaborn\\distributions.py:2619: FutureWarning: `distplot` is a deprecated function and will be removed in a future version. Please adapt your code to use either `displot` (a figure-level function with similar flexibility) or `kdeplot` (an axes-level function for kernel density plots).\n",
      "  warnings.warn(msg, FutureWarning)\n",
      "C:\\Users\\lenovo\\Desktop\\python\\new_project\\env\\lib\\site-packages\\seaborn\\distributions.py:2619: FutureWarning: `distplot` is a deprecated function and will be removed in a future version. Please adapt your code to use either `displot` (a figure-level function with similar flexibility) or `kdeplot` (an axes-level function for kernel density plots).\n",
      "  warnings.warn(msg, FutureWarning)\n"
     ]
    },
    {
     "data": {
      "image/png": "[encoded data removed]",
      "text/plain": [
       "<Figure size 432x288 with 1 Axes>"
      ]
     },
     "metadata": {
      "needs_background": "light"
     },
     "output_type": "display_data"
    }
   ],
   "source": [
    "sns.distplot(random.binomial(n=1000, p=0.01, size=1000), hist=False, label='binomial')\n",
    "sns.distplot(random.poisson(lam=10, size=1000), hist=False, label='poisson')\n",
    "\n",
    "plt.show()"
   ]
  },
  {
   "cell_type": "markdown",
   "id": "1f18bd1f",
   "metadata": {},
   "source": [
    "### Uniform Distribution"
   ]
  },
  {
   "cell_type": "markdown",
   "id": "8e1dba02",
   "metadata": {},
   "source": [
    "Used to describe probability where every event has equal chances of occuring."
   ]
  },
  {
   "cell_type": "markdown",
   "id": "cc154bb2",
   "metadata": {},
   "source": [
    "it has three parameteres:\n",
    "\n",
    "    a - lower bound -default 0.0.\n",
    "    b - upper bound - default 1.0.\n",
    "    size - the shape of the returned array\n",
    "    "
   ]
  },
  {
   "cell_type": "code",
   "execution_count": 17,
   "id": "39885517",
   "metadata": {},
   "outputs": [
    {
     "name": "stdout",
     "output_type": "stream",
     "text": [
      "[[0.23788169 0.72146263 0.29029103]\n",
      " [0.29124988 0.11742261 0.20914636]]\n"
     ]
    }
   ],
   "source": [
    "#create a 2x3 uniform distribution sample\n",
    "\n",
    "x = random.uniform(size=(2,3))\n",
    "\n",
    "print(x)"
   ]
  },
  {
   "cell_type": "markdown",
   "id": "4e12695d",
   "metadata": {},
   "source": [
    "Visualizatiion of Uniform Distribution\n"
   ]
  },
  {
   "cell_type": "code",
   "execution_count": 18,
   "id": "477fd967",
   "metadata": {},
   "outputs": [
    {
     "name": "stderr",
     "output_type": "stream",
     "text": [
      "C:\\Users\\lenovo\\Desktop\\python\\new_project\\env\\lib\\site-packages\\seaborn\\distributions.py:2619: FutureWarning: `distplot` is a deprecated function and will be removed in a future version. Please adapt your code to use either `displot` (a figure-level function with similar flexibility) or `kdeplot` (an axes-level function for kernel density plots).\n",
      "  warnings.warn(msg, FutureWarning)\n"
     ]
    },
    {
     "data": {
      "image/png": "[encoded data removed]",
      "text/plain": [
       "<Figure size 432x288 with 1 Axes>"
      ]
     },
     "metadata": {
      "needs_background": "light"
     },
     "output_type": "display_data"
    }
   ],
   "source": [
    "sns.distplot(random.uniform(size=1000),hist=False)\n",
    "\n",
    "plt.show()"
   ]
  },
  {
   "cell_type": "markdown",
   "id": "29fe04b9",
   "metadata": {},
   "source": [
    "### Logistic Distribution"
   ]
  },
  {
   "cell_type": "markdown",
   "id": "b7b59256",
   "metadata": {},
   "source": [
    "-->it is used to describe growth.\n",
    "\n",
    "-->Used extensively in machine learning in logistic regression,    neural networks etc.\n",
    "\n",
    "it has three parameters\n",
    "loc , scale, size"
   ]
  },
  {
   "cell_type": "code",
   "execution_count": 19,
   "id": "d49bd723",
   "metadata": {},
   "outputs": [
    {
     "name": "stdout",
     "output_type": "stream",
     "text": [
      "[[ 1.35776048  0.17171903 -0.51587706]\n",
      " [ 4.02403291  2.78904365 -1.09666615]]\n"
     ]
    }
   ],
   "source": [
    "#draw 2x3 samples from a logistic distribution with mean at 1 and stddev 2.0\n",
    "\n",
    "x = random.logistic(loc=1, scale=2, size=(2,3))\n",
    "\n",
    "print(x)"
   ]
  },
  {
   "cell_type": "markdown",
   "id": "e73ac375",
   "metadata": {},
   "source": [
    "Visualization of logistic Distribution"
   ]
  },
  {
   "cell_type": "code",
   "execution_count": 20,
   "id": "1dcc9fd3",
   "metadata": {},
   "outputs": [
    {
     "name": "stderr",
     "output_type": "stream",
     "text": [
      "C:\\Users\\lenovo\\Desktop\\python\\new_project\\env\\lib\\site-packages\\seaborn\\distributions.py:2619: FutureWarning: `distplot` is a deprecated function and will be removed in a future version. Please adapt your code to use either `displot` (a figure-level function with similar flexibility) or `kdeplot` (an axes-level function for kernel density plots).\n",
      "  warnings.warn(msg, FutureWarning)\n"
     ]
    },
    {
     "data": {
      "image/png": "[encoded data removed]",
      "text/plain": [
       "<Figure size 432x288 with 1 Axes>"
      ]
     },
     "metadata": {
      "needs_background": "light"
     },
     "output_type": "display_data"
    }
   ],
   "source": [
    "\n",
    "sns.distplot(random.logistic(size=1000), hist= False)\n",
    "\n",
    "plt.show()"
   ]
  },
  {
   "cell_type": "markdown",
   "id": "7e55e064",
   "metadata": {},
   "source": [
    "Difference Between Logistic and Normal Distribution"
   ]
  },
  {
   "cell_type": "markdown",
   "id": "7f81b074",
   "metadata": {},
   "source": [
    "both distributions are near identical , but logistic distribution has more area under the tails, i.e. it represents more posibility of occurence of an events further away from mean"
   ]
  },
  {
   "cell_type": "markdown",
   "id": "444a9f61",
   "metadata": {},
   "source": [
    "for higher value of scale the normal and logistic distributions are near apart from the peak."
   ]
  },
  {
   "cell_type": "code",
   "execution_count": 21,
   "id": "956b4558",
   "metadata": {},
   "outputs": [
    {
     "name": "stderr",
     "output_type": "stream",
     "text": [
      "C:\\Users\\lenovo\\Desktop\\python\\new_project\\env\\lib\\site-packages\\seaborn\\distributions.py:2619: FutureWarning: `distplot` is a deprecated function and will be removed in a future version. Please adapt your code to use either `displot` (a figure-level function with similar flexibility) or `kdeplot` (an axes-level function for kernel density plots).\n",
      "  warnings.warn(msg, FutureWarning)\n",
      "C:\\Users\\lenovo\\Desktop\\python\\new_project\\env\\lib\\site-packages\\seaborn\\distributions.py:2619: FutureWarning: `distplot` is a deprecated function and will be removed in a future version. Please adapt your code to use either `displot` (a figure-level function with similar flexibility) or `kdeplot` (an axes-level function for kernel density plots).\n",
      "  warnings.warn(msg, FutureWarning)\n"
     ]
    },
    {
     "data": {
      "image/png": "[encoded data removed]",
      "text/plain": [
       "<Figure size 432x288 with 1 Axes>"
      ]
     },
     "metadata": {
      "needs_background": "light"
     },
     "output_type": "display_data"
    }
   ],
   "source": [
    "\n",
    "sns.distplot(random.normal(scale=2, size=1000),hist=False, label='normal')\n",
    "sns.distplot(random.logistic(size=1000),hist=False, label='logistic')\n",
    "plt.show()"
   ]
  },
  {
   "cell_type": "markdown",
   "id": "fdea685c",
   "metadata": {},
   "source": [
    "### Multinomial Distribution \n"
   ]
  },
  {
   "cell_type": "markdown",
   "id": "26d03fb4",
   "metadata": {},
   "source": [
    "--> it is a generalization of binomial distribution.\n",
    "\n",
    "-->it describes outcomes of multi-nomial senarios unlike binomial where scenarios must be only one of two\n",
    "   e.g. blood type of population , dice roll outcome.\n",
    "    \n",
    "-->it has three parameters:\n",
    "    \n",
    "    n -number of possible outcomes(e.g 6 for dice roll)\n",
    "    \n",
    "    pvals - list of probabilities of outcomes(e.g.[1/6,1/6,1/6,1/6,1/6,1/6]for dice roll)\n",
    "    \n",
    "    size - shape of array\n"
   ]
  },
  {
   "cell_type": "markdown",
   "id": "205e1c51",
   "metadata": {},
   "source": [
    "#### Note: Multinomial samples will NOT produce a single value! They will produce one value for each pval."
   ]
  },
  {
   "cell_type": "code",
   "execution_count": 22,
   "id": "4d91ed17",
   "metadata": {},
   "outputs": [
    {
     "name": "stdout",
     "output_type": "stream",
     "text": [
      "[0 1 1 0 4 0]\n"
     ]
    }
   ],
   "source": [
    "x = random.multinomial(n=6, pvals=[1/6,1/6,1/6,1/6,1/6,1/6])\n",
    "print(x)"
   ]
  },
  {
   "cell_type": "raw",
   "id": "756182e2",
   "metadata": {},
   "source": [
    "Note: As they are generalization of binomial distribution their visual representation and similarity of normal distribution is same as that of multiple binomial distributions."
   ]
  },
  {
   "cell_type": "markdown",
   "id": "8e7cd7f7",
   "metadata": {},
   "source": [
    "....."
   ]
  },
  {
   "cell_type": "markdown",
   "id": "c28472bd",
   "metadata": {},
   "source": [
    "### Exponential Distribution"
   ]
  },
  {
   "cell_type": "markdown",
   "id": "b30d4351",
   "metadata": {},
   "source": [
    "It is used for describing time of the next event e.g. failure/success etc. "
   ]
  },
  {
   "cell_type": "markdown",
   "id": "83b18f19",
   "metadata": {},
   "source": [
    "It has two parameters:\n",
    "    \n",
    "    scale - inverse of rate()defaults to 1.0.\n",
    "    \n",
    "    size- shape of array"
   ]
  },
  {
   "cell_type": "code",
   "execution_count": 57,
   "id": "f2ca8d5d",
   "metadata": {},
   "outputs": [
    {
     "name": "stdout",
     "output_type": "stream",
     "text": [
      "[[1.93324462 1.02357384 0.12732445]\n",
      " [1.27488684 4.9991619  0.6834382 ]]\n"
     ]
    }
   ],
   "source": [
    "#draw out sample for exponential with 2.0 scale with 2x3 size:\n",
    "x = random.exponential(scale=2, size=(2,3))\n",
    "\n",
    "print(x)"
   ]
  },
  {
   "cell_type": "markdown",
   "id": "562c6ba8",
   "metadata": {},
   "source": [
    "Visualization of Exponential Distribution"
   ]
  },
  {
   "cell_type": "code",
   "execution_count": 61,
   "id": "08bbd855",
   "metadata": {},
   "outputs": [
    {
     "name": "stderr",
     "output_type": "stream",
     "text": [
      "C:\\Users\\lenovo\\Desktop\\python\\new_project\\env\\lib\\site-packages\\seaborn\\distributions.py:2619: FutureWarning: `distplot` is a deprecated function and will be removed in a future version. Please adapt your code to use either `displot` (a figure-level function with similar flexibility) or `kdeplot` (an axes-level function for kernel density plots).\n",
      "  warnings.warn(msg, FutureWarning)\n"
     ]
    },
    {
     "data": {
      "image/png": "[encoded data removed]",
      "text/plain": [
       "<Figure size 432x288 with 1 Axes>"
      ]
     },
     "metadata": {
      "needs_background": "light"
     },
     "output_type": "display_data"
    }
   ],
   "source": [
    "sns.distplot(random.exponential(size=1000),hist=False)\n",
    "\n",
    "plt.show()"
   ]
  },
  {
   "cell_type": "markdown",
   "id": "704a0a56",
   "metadata": {},
   "source": [
    "Realtion between Poisson amd Exponential distribution.\n"
   ]
  },
  {
   "cell_type": "markdown",
   "id": "8cdd8827",
   "metadata": {},
   "source": [
    "Poisson distribution deals with number of occurences of an event in a time period whereas exponential distribution deals with the time between these events. "
   ]
  },
  {
   "cell_type": "markdown",
   "id": "60105482",
   "metadata": {},
   "source": [
    "### Chi Square Distribution"
   ]
  },
  {
   "cell_type": "markdown",
   "id": "4f7d8328",
   "metadata": {},
   "source": [
    "it is used as a basis to verify the hypothesis.\n",
    "\n",
    "it has two parameters:\n",
    "    \n",
    "    df -(degree of freeedom).\n",
    "    \n",
    "    size"
   ]
  },
  {
   "cell_type": "code",
   "execution_count": 23,
   "id": "57759064",
   "metadata": {},
   "outputs": [
    {
     "name": "stdout",
     "output_type": "stream",
     "text": [
      "[[5.62694584 2.74794082 2.99661015]\n",
      " [0.6822036  2.93161843 0.53432162]]\n"
     ]
    }
   ],
   "source": [
    "#draw a sample with degree of freedom 2 with size 2x3\n",
    "\n",
    "x= random.chisquare(df=2, size=(2,3))\n",
    "\n",
    "print(x)"
   ]
  },
  {
   "cell_type": "markdown",
   "id": "a6807481",
   "metadata": {},
   "source": [
    "Visualization of Chi Square Distribution"
   ]
  },
  {
   "cell_type": "code",
   "execution_count": 24,
   "id": "e66c92f7",
   "metadata": {},
   "outputs": [
    {
     "name": "stderr",
     "output_type": "stream",
     "text": [
      "C:\\Users\\lenovo\\Desktop\\python\\new_project\\env\\lib\\site-packages\\seaborn\\distributions.py:2619: FutureWarning: `distplot` is a deprecated function and will be removed in a future version. Please adapt your code to use either `displot` (a figure-level function with similar flexibility) or `kdeplot` (an axes-level function for kernel density plots).\n",
      "  warnings.warn(msg, FutureWarning)\n"
     ]
    },
    {
     "data": {
      "image/png": "[encoded data removed]",
      "text/plain": [
       "<Figure size 432x288 with 1 Axes>"
      ]
     },
     "metadata": {
      "needs_background": "light"
     },
     "output_type": "display_data"
    }
   ],
   "source": [
    "sns.distplot(random.chisquare(df=1, size=1000),hist=False)\n",
    "\n",
    "plt.show()"
   ]
  },
  {
   "cell_type": "markdown",
   "id": "d8e50189",
   "metadata": {},
   "source": [
    "### Rayleigh Distribution"
   ]
  },
  {
   "cell_type": "markdown",
   "id": "8209ef23",
   "metadata": {},
   "source": [
    "It is used in signal processing.\n",
    "\n",
    "It has 2 parameters:\n",
    "    \n",
    "    scale-(standard deviation)decides how flat the distribution will be ,default 1.0.\n",
    "    \n",
    "    size"
   ]
  },
  {
   "cell_type": "code",
   "execution_count": 27,
   "id": "288723f3",
   "metadata": {},
   "outputs": [
    {
     "name": "stdout",
     "output_type": "stream",
     "text": [
      "[[5.51187232 1.93243458 2.92657722]\n",
      " [1.41898885 2.09180279 2.32271521]]\n"
     ]
    }
   ],
   "source": [
    "#scale of 2 with size 2x3.\n",
    "\n",
    "x= random.rayleigh(scale=2,size=(2,3))\n",
    "\n",
    "print(x)"
   ]
  },
  {
   "cell_type": "markdown",
   "id": "516e4067",
   "metadata": {},
   "source": [
    "Visualization of Rayleigh Distribution."
   ]
  },
  {
   "cell_type": "code",
   "execution_count": 29,
   "id": "249aa1ed",
   "metadata": {},
   "outputs": [
    {
     "name": "stderr",
     "output_type": "stream",
     "text": [
      "C:\\Users\\lenovo\\Desktop\\python\\new_project\\env\\lib\\site-packages\\seaborn\\distributions.py:2619: FutureWarning: `distplot` is a deprecated function and will be removed in a future version. Please adapt your code to use either `displot` (a figure-level function with similar flexibility) or `kdeplot` (an axes-level function for kernel density plots).\n",
      "  warnings.warn(msg, FutureWarning)\n"
     ]
    },
    {
     "data": {
      "image/png": "[encoded data removed]",
      "text/plain": [
       "<Figure size 432x288 with 1 Axes>"
      ]
     },
     "metadata": {
      "needs_background": "light"
     },
     "output_type": "display_data"
    }
   ],
   "source": [
    "sns.distplot(random.rayleigh(size=1000),hist=False)\n",
    "\n",
    "plt.show()"
   ]
  },
  {
   "cell_type": "markdown",
   "id": "895b9169",
   "metadata": {},
   "source": [
    "### Pareto Distribution"
   ]
  },
  {
   "cell_type": "markdown",
   "id": "2e7e785f",
   "metadata": {},
   "source": [
    "A distribution following pareto's law i.e.80-20 distribution (20%factors cause 80% outcome)\n",
    "\n",
    "two parameters:\n",
    "    \n",
    "    a-shape parameter.\n",
    "    \n",
    "    size\n"
   ]
  },
  {
   "cell_type": "code",
   "execution_count": 32,
   "id": "006bf0b9",
   "metadata": {},
   "outputs": [
    {
     "name": "stdout",
     "output_type": "stream",
     "text": [
      "[[0.65890635 0.12885411 1.12065015]\n",
      " [0.72728426 1.16896351 0.10656386]]\n"
     ]
    }
   ],
   "source": [
    "\n",
    "x= random.pareto(a=2, size=(2,3))\n",
    "\n",
    "print(x)"
   ]
  },
  {
   "cell_type": "markdown",
   "id": "ca9dc5a3",
   "metadata": {},
   "source": [
    "Visualization of Pareto Distribution"
   ]
  },
  {
   "cell_type": "code",
   "execution_count": 35,
   "id": "8d386c96",
   "metadata": {
    "scrolled": true
   },
   "outputs": [
    {
     "data": {
      "image/png": "[encoded data removed]",
      "text/plain": [
       "<Figure size 432x288 with 1 Axes>"
      ]
     },
     "metadata": {
      "needs_background": "light"
     },
     "output_type": "display_data"
    }
   ],
   "source": [
    "sns.distplot(random.pareto(a=2, size=1000), kde=False)\n",
    "\n",
    "plt.show()"
   ]
  },
  {
   "cell_type": "markdown",
   "id": "959ca11f",
   "metadata": {},
   "source": [
    "### Zipf Distribution"
   ]
  },
  {
   "cell_type": "raw",
   "id": "2f52bda5",
   "metadata": {},
   "source": [
    "Zipf's Law: In a collection the nth common term is 1/n times of the most common term. E.g. 5th common word in english has occurs nearly 1/5th times as of the most used word."
   ]
  },
  {
   "cell_type": "markdown",
   "id": "8f48ecaf",
   "metadata": {},
   "source": [
    "this are used to sample data  based on zipf's law\n",
    "\n",
    "two parameters:\n",
    "   \n",
    "   a-distribution parameter\n",
    "   \n",
    "   size"
   ]
  },
  {
   "cell_type": "code",
   "execution_count": 38,
   "id": "00bd2e28",
   "metadata": {},
   "outputs": [
    {
     "name": "stdout",
     "output_type": "stream",
     "text": [
      "[[1 2 1]\n",
      " [3 1 1]]\n"
     ]
    }
   ],
   "source": [
    "x = random.zipf(a=2, size=(2,3))\n",
    "\n",
    "print(x)"
   ]
  },
  {
   "cell_type": "markdown",
   "id": "df602eff",
   "metadata": {},
   "source": [
    "Visualization of Zipf Distribution"
   ]
  },
  {
   "cell_type": "code",
   "execution_count": 40,
   "id": "4f1c8dbb",
   "metadata": {},
   "outputs": [
    {
     "data": {
      "image/png": "[encoded data removed]",
      "text/plain": [
       "<Figure size 432x288 with 1 Axes>"
      ]
     },
     "metadata": {
      "needs_background": "light"
     },
     "output_type": "display_data"
    }
   ],
   "source": [
    "#Sample 1000 points but plotting only ones with value < 10 for more meaningful chart.\n",
    "\n",
    "x = random.zipf(a=2,size=1000)\n",
    "sns.distplot(x[x<10],kde=False)\n",
    "\n",
    "\n",
    "plt.show()"
   ]
  },
  {
   "cell_type": "markdown",
   "id": "d82ce7c0",
   "metadata": {},
   "source": [
    "....."
   ]
  },
  {
   "cell_type": "markdown",
   "id": "a3dab283",
   "metadata": {},
   "source": [
    "# Numpy ufuncs"
   ]
  },
  {
   "cell_type": "code",
   "execution_count": null,
   "id": "8481d9ee",
   "metadata": {},
   "outputs": [],
   "source": []
  }
 ],
 "metadata": {
  "kernelspec": {
   "display_name": "Python 3 (ipykernel)",
   "language": "python",
   "name": "python3"
  },
  "language_info": {
   "codemirror_mode": {
    "name": "ipython",
    "version": 3
   },
   "file_extension": ".py",
   "mimetype": "text/x-python",
   "name": "python",
   "nbconvert_exporter": "python",
   "pygments_lexer": "ipython3",
   "version": "3.9.7"
  }
 },
 "nbformat": 4,
 "nbformat_minor": 5
}
